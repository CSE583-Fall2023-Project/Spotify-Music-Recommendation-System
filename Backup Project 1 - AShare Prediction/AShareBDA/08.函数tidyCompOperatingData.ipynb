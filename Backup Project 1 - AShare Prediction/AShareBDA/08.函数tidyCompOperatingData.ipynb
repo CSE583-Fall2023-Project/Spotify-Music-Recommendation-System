{
 "cells": [
  {
   "cell_type": "code",
   "execution_count": null,
   "metadata": {
    "uuid": "316debe7-908d-41d1-a5c1-e6b26e1400b9"
   },
   "outputs": [],
   "source": [
    "# 公司运营数据表的规整化\n",
    "\n",
    "#本函数处理的是——公司运营数据表CompanyOperating，转换目的为\n",
    "    #'TICKER_SYMBOL','year','month 为主码\n",
    "    # INDIC_NAME_ID为属性，该字段为指标字段名称\n",
    "        #其中，指标名称ID(INDIC_NAME_ID)为新生成的\n",
    "        #生成方法：指标英文名称（长短不一）编码后加上COMP前缀\n",
    "    # VALUE为值\n",
    "    \n",
    "# 公司运营数据表CompanyOperating的字段及含义\n",
    "    # SECURITY_ID证券代码\n",
    "    # TICKER_SYMBOL交易代码\t\n",
    "    # INDIC_NAME_CN 指标\t\n",
    "    # END_DATE 报告期\n",
    "    # VALUE值\n",
    "    # UNIT_CD单位"
   ]
  },
  {
   "cell_type": "code",
   "execution_count": null,
   "metadata": {
    "uuid": "4f7aa1c2-4472-4600-807d-9d9bc5e23078"
   },
   "outputs": [],
   "source": [
    "PATH_COMPANYOPERATING_FILE = 'Data/CompanyOperating.xlsx'\n",
    "DATETIME_UNITS=\"QUARTER\"\n"
   ]
  },
  {
   "cell_type": "markdown",
   "metadata": {
    "uuid": "d7cb6a77-79c0-4df5-9af3-c396f885fc86"
   },
   "source": [
    "# 所需调用函数"
   ]
  },
  {
   "cell_type": "code",
   "execution_count": null,
   "metadata": {
    "uuid": "c06bc4e1-81fb-46b5-8b92-8196fd074ff4"
   },
   "outputs": [],
   "source": [
    "#关于addDataTimeFeatures见【2.函数addDataTimeFeatures】\n",
    "\n",
    "def addDataTimeFeatures(df_s,date_column,DATETIME_UNITS):\n",
    "    \"依据日期格式生成年月季度半年所在的月\"\n",
    "    df_s['year'] = df_s[date_column].map(lambda x:x.year)\n",
    "    df_st = pd.DataFrame({'MONTH':df_s[date_column].astype(str).apply(lambda x:x[5:7])})\n",
    "    df_dict = pd.DataFrame({'MONTH':['01','02','03','04','05','06','07','08','09','10','11','12'],\n",
    "                            'QUARTER':['03','03','03','06','06','06','09','09','09','12','12','12'],\n",
    "                           'HALF':['06','06','06','06','06','06','12','12','12','12','12','12'],\n",
    "                           'YEAR':['12','12','12','12','12','12','12','12','12','12','12','12']})\n",
    "    df_output = pd.merge(df_st,df_dict,how='left')\n",
    "    df_s = df_s.reset_index()\n",
    "    df_s['month'] = df_output[DATETIME_UNITS]\n",
    "    return(df_s)"
   ]
  },
  {
   "cell_type": "markdown",
   "metadata": {
    "uuid": "fd4e53e1-705d-4f75-a61a-a49f9f3fd556"
   },
   "source": [
    "# 读取数据"
   ]
  },
  {
   "cell_type": "markdown",
   "metadata": {},
   "source": [
    "![image.png](Images/CompanyOp.png)"
   ]
  },
  {
   "cell_type": "code",
   "execution_count": null,
   "metadata": {
    "uuid": "cb3bf0c7-40df-4bfb-91aa-efb681b8dfc2"
   },
   "outputs": [],
   "source": [
    "#功能：产生公司数据\n",
    "#思路：通过读取公司经营数据，取相应列、按周期匹配出年月、按求和汇总、通过行转列等操作，产生公司数据\n",
    "import pandas as pd\n",
    "df_comp = pd.DataFrame(pd.read_excel(PATH_COMPANYOPERATING_FILE,sheet_name=['EN'],\n",
    "                                     converters={'TICKER_SYMBOL':str,'PARTY_ID':str})['EN'])\n",
    "    #此处'EN'为原数据表中的sheets名称\n",
    "    \n",
    "    \n",
    "df_comp.head()  \n",
    "    # SECURITY_ID证券代码\n",
    "    # TICKER_SYMBOL交易代码\t\n",
    "    # INDIC_NAME_CN  指标中文\t\n",
    "    # INDIC_NAME_EN  指标英文\n",
    "    # END_DATE 报告期\n",
    "    # VALUE值\n",
    "    # UNIT_CD单位"
   ]
  },
  {
   "cell_type": "code",
   "execution_count": null,
   "metadata": {
    "uuid": "e7192f55-3a32-480a-a0d8-7f2491831338"
   },
   "outputs": [],
   "source": [
    " #取相应列名\n",
    "df_comp.columns = [x.lstrip().rstrip() for x in df_comp.columns]\n",
    "df_comp.columns  "
   ]
  },
  {
   "cell_type": "markdown",
   "metadata": {
    "uuid": "5dff6352-ac53-4065-8b8d-00b2703c6f21"
   },
   "source": [
    "# 新增year和month列"
   ]
  },
  {
   "cell_type": "code",
   "execution_count": null,
   "metadata": {
    "uuid": "24bd05a3-0bed-449d-9aaa-4ea005267fd7"
   },
   "outputs": [],
   "source": [
    "#按周期新增year列和Month列\n",
    "df_comp = addDataTimeFeatures(df_comp,'END_DATE',DATETIME_UNITS)\n",
    "df_comp"
   ]
  },
  {
   "cell_type": "markdown",
   "metadata": {
    "uuid": "3c1ca80d-192f-4b66-af11-1a2d7a445f51"
   },
   "source": [
    "# 分组统计"
   ]
  },
  {
   "cell_type": "code",
   "execution_count": null,
   "metadata": {
    "uuid": "ccc23b27-a2e2-453e-89ed-618c4b89d888"
   },
   "outputs": [],
   "source": [
    "#按TICKER_SYMBOL','INDIC_NAME_EN','year','month'分组统计，并求和\n",
    "df_comp_g = df_comp.groupby(['TICKER_SYMBOL','INDIC_NAME_EN','year','month'])[['VALUE']].sum().reset_index()\n",
    "df_comp_g "
   ]
  },
  {
   "cell_type": "code",
   "execution_count": null,
   "metadata": {},
   "outputs": [],
   "source": [
    "df_comp_g.index,df_comp_g.columns "
   ]
  },
  {
   "cell_type": "code",
   "execution_count": null,
   "metadata": {},
   "outputs": [],
   "source": [
    "#上一行代码中 df_comp.groupby(['TICKER_SYMBOL','INDIC_NAME_EN','year','month'])[['VALUE']].sum()的含义\n",
    "df_1 = df_comp.groupby(['TICKER_SYMBOL','INDIC_NAME_EN','year','month'])[['VALUE']].sum()\n",
    "    #df_1的行索引为多级索引：'TICKER_SYMBOL','INDIC_NAME_EN','year','month'\n",
    "    #df_1的列索引只有一个，即VALUE\n",
    "    \n",
    "print(\" df_1.shape=\", df_1.shape)\n",
    "print(\"type(df_1)=\",type(df_1))\n",
    "print(\"df_1.index=\",df_1.index)\n",
    "print(\"df_1.shape\",df_1.shape)\n",
    "print(\"df_1.columns=\",df_1.columns)\n"
   ]
  },
  {
   "cell_type": "code",
   "execution_count": null,
   "metadata": {},
   "outputs": [],
   "source": [
    "print(\"df_1.index=\",df_1.index[0:5])"
   ]
  },
  {
   "cell_type": "code",
   "execution_count": null,
   "metadata": {},
   "outputs": [],
   "source": [
    "print(\"df_1.columns=\",df_1.columns)"
   ]
  },
  {
   "cell_type": "code",
   "execution_count": null,
   "metadata": {},
   "outputs": [],
   "source": [
    "df_1.reset_index()\n",
    "    #reset_index：将多级索引处理成同一级索引"
   ]
  },
  {
   "cell_type": "markdown",
   "metadata": {},
   "source": [
    "# 将指标名称字符串改变为数值类型"
   ]
  },
  {
   "cell_type": "code",
   "execution_count": null,
   "metadata": {},
   "outputs": [],
   "source": [
    "#查看指标名称一列'INDIC_NAME_EN'\n",
    "df_comp_g['INDIC_NAME_EN']"
   ]
  },
  {
   "cell_type": "code",
   "execution_count": null,
   "metadata": {
    "uuid": "ccc23b27-a2e2-453e-89ed-618c4b89d888"
   },
   "outputs": [],
   "source": [
    "#调用pandas.factorize将指标名称改为分类变量\n",
    "    #Pandas factorize 的功能与 scikit-learn LabelEncoder类似\n",
    "    #指标名称字段为'INDIC_NAME_EN'\n",
    "    \n",
    "f_indic = pd.factorize(df_comp_g['INDIC_NAME_EN'])\n",
    "f_indic"
   ]
  },
  {
   "cell_type": "markdown",
   "metadata": {},
   "source": [
    "# 新增指标名称ID一列"
   ]
  },
  {
   "cell_type": "code",
   "execution_count": null,
   "metadata": {
    "uuid": "ccc23b27-a2e2-453e-89ed-618c4b89d888"
   },
   "outputs": [],
   "source": [
    "#新增列'INDIC_NAME_ID'\n",
    "    #取值为：COMP+ 指标名称的数值编号\n",
    "    \n",
    "df_comp_g['INDIC_NAME_ID'] =\"COMP\"+ pd.Series(f_indic[0]).astype(str)\n",
    "df_comp_g"
   ]
  },
  {
   "cell_type": "markdown",
   "metadata": {
    "uuid": "23bea704-046f-4e9e-992a-da2c34187dbf"
   },
   "source": [
    "# 定义新表"
   ]
  },
  {
   "cell_type": "code",
   "execution_count": null,
   "metadata": {
    "uuid": "de012704-bc9d-4c7c-8fd6-b02f5b4d4ec7"
   },
   "outputs": [],
   "source": [
    "#透视表\n",
    "    #id为'TICKER_SYMBOL','year','month'\n",
    "    #列名为INDIC_NAME_ID\n",
    "    #值为value\n",
    "    \n",
    "df_comp_g = df_comp_g.pivot_table(index=['TICKER_SYMBOL','year','month'],\n",
    "                                  columns=[\"INDIC_NAME_ID\"],\n",
    "                                  values=[\"VALUE\"]).reset_index()\n",
    "    #注：.reset_index()的含义为将多级索引改为多个一级索引\n",
    "    \n",
    "df_comp_g"
   ]
  },
  {
   "cell_type": "code",
   "execution_count": null,
   "metadata": {},
   "outputs": [],
   "source": [
    "df_comp_g.columns.values"
   ]
  },
  {
   "cell_type": "code",
   "execution_count": null,
   "metadata": {
    "uuid": "de012704-bc9d-4c7c-8fd6-b02f5b4d4ec7"
   },
   "outputs": [],
   "source": [
    "#处理列名  \n",
    "df_comp_g.columns = [ ''.join(col) for col in df_comp_g.columns.values]\n",
    "df_comp_g"
   ]
  },
  {
   "cell_type": "code",
   "execution_count": null,
   "metadata": {
    "uuid": "de012704-bc9d-4c7c-8fd6-b02f5b4d4ec7"
   },
   "outputs": [],
   "source": [
    "#缺失值补0\n",
    "df_comp_g = df_comp_g.fillna(0)\n",
    "df_comp_g.head()"
   ]
  }
 ],
 "metadata": {
  "kernelspec": {
   "display_name": "Python 3 (ipykernel)",
   "language": "python",
   "name": "python3"
  },
  "language_info": {
   "codemirror_mode": {
    "name": "ipython",
    "version": 3
   },
   "file_extension": ".py",
   "mimetype": "text/x-python",
   "name": "python",
   "nbconvert_exporter": "python",
   "pygments_lexer": "ipython3",
   "version": "3.9.13"
  },
  "toc": {
   "base_numbering": 1,
   "nav_menu": {},
   "number_sections": true,
   "sideBar": true,
   "skip_h1_title": false,
   "title_cell": "Table of Contents",
   "title_sidebar": "Contents",
   "toc_cell": false,
   "toc_position": {},
   "toc_section_display": true,
   "toc_window_display": false
  }
 },
 "nbformat": 4,
 "nbformat_minor": 4
}
