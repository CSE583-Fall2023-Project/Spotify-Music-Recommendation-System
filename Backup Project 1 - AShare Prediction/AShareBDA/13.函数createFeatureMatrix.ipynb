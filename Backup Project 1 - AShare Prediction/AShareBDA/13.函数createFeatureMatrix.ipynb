{
 "cells": [
  {
   "cell_type": "code",
   "execution_count": 1,
   "metadata": {},
   "outputs": [],
   "source": [
    "# 生成特征，思路\n",
    "    #将所有数据合并成一张大表\n",
    "    #包括：\n",
    "        #资产负债表：GB_Balance_Sheet.xlsx\n",
    "        #利润表：GB_Income_Statement.xlsx \n",
    "        #宏观经济指标表：MacroIndustry.xlsx\n",
    "        #公司运营数据表：CompanyOperating.xlsx\n",
    "        #股票行情数据表：MarketData.xlsx\n",
    "\n",
    "    #没有包括：\n",
    "        #现金流量表：GB_Cash_Flow_Statement.xlsx"
   ]
  },
  {
   "cell_type": "markdown",
   "metadata": {
    "uuid": "1e8a8f3a-c14b-4238-af93-c683f6f0536c"
   },
   "source": [
    "# 需要调用的函数"
   ]
  },
  {
   "cell_type": "code",
   "execution_count": 2,
   "metadata": {
    "uuid": "8366656c-19fb-450f-b9fe-67f5a01bac5c"
   },
   "outputs": [],
   "source": [
    "def biningData(sr,n_Quantile,is_onehot):\n",
    "     \n",
    "    df_bins = pd.qcut(sr,n_Quantile,duplicates = 'drop').to_frame()\n",
    "    \n",
    "    df_bins['DIS_'+sr.name] = pd.Categorical(df_bins.iloc[:,0]).codes\n",
    "    if(is_onehot==True):\n",
    "        df_bins['DIS_'+sr.name]=df_bins['DIS_'+sr.name].astype('category')\n",
    "    return(df_bins['DIS_'+sr.name])"
   ]
  },
  {
   "cell_type": "code",
   "execution_count": 3,
   "metadata": {
    "uuid": "a09c423e-4099-41e2-9753-7ccb96d78526"
   },
   "outputs": [],
   "source": [
    "def featureEngineeringTimeSeriesData(df_s,n_lag):\n",
    "     \n",
    "    list_col = df_s.columns[2:]\n",
    "    df_append =  []\n",
    "    for i in range(n_lag):\n",
    "        #i = 0\n",
    "        print(i+1)\n",
    "        df_tmp = df_s.groupby(['TICKER_SYMBOL'])[list_col].shift(i+1)\n",
    "        list_col_target = [col+'_'+'LAG'+str(i+1) for col in df_tmp.columns]\n",
    "        df_tmp.columns = list_col_target\n",
    "        df_append.append(df_tmp)\n",
    "    df_s = pd.concat(df_append, axis=1)\n",
    "    return(df_s)"
   ]
  },
  {
   "cell_type": "code",
   "execution_count": 4,
   "metadata": {
    "uuid": "7f42407e-a353-4cfb-b079-5dc214de9ec2"
   },
   "outputs": [],
   "source": [
    "def biningAndRankingData(df,n_Quantile,is_onehot):\n",
    "    \n",
    "    bin_columns = ['DIS_'+ i for i in df.columns]\n",
    "    rank_columns = ['RANK_'+ i for i in df.columns]\n",
    "     \n",
    "    if(is_onehot==True):\n",
    "        df_bins = df.apply(lambda x:biningData(x,n_Quantile=n_Quantile,is_onehot=is_onehot))\n",
    "        df_bins.columns = bin_columns\n",
    "        df_bins = pd.get_dummies(df_bins, prefix=bin_columns)\n",
    "    else:\n",
    "        df_bins = df.apply(lambda x:biningData(x,n_Quantile=n_Quantile,is_onehot=is_onehot))\n",
    "        df_bins.columns = bin_columns\n",
    "   \n",
    "\n",
    "    df_bins[rank_columns] = df.rank(method = 'min')\n",
    "    return(df_bins)"
   ]
  },
  {
   "cell_type": "markdown",
   "metadata": {
    "uuid": "5b095705-4be6-4007-b761-2e43f635c1fc"
   },
   "source": [
    "# 读取中间数据"
   ]
  },
  {
   "cell_type": "code",
   "execution_count": 5,
   "metadata": {
    "uuid": "02952248-1337-46c5-967b-9d5694400695"
   },
   "outputs": [],
   "source": [
    "#原函数的函数头\n",
    "    # def createFeature(GB_Income_Statement,df_indus_g,df_comp_g,df_share_g,START_DATE=pd.Timestamp('2008-01-01'),\n",
    "    #                   IS_ONEHOT=False,N_QUANTILES=100,N_LAG=5):"
   ]
  },
  {
   "cell_type": "markdown",
   "metadata": {},
   "source": [
    "## 读取宏观经济数据"
   ]
  },
  {
   "cell_type": "code",
   "execution_count": 6,
   "metadata": {
    "uuid": "fb64a5dd-97ed-4d21-bf9f-4078e1d88ed2"
   },
   "outputs": [],
   "source": [
    "import pandas as pd\n",
    "df_indus = pd.read_csv(\"Data/df_indus.csv\",index_col=0)\n",
    "    #原始数据为MacroIndustry.xlsx\n",
    "    #已在tidyingMacroIndustry中进行规整化处理"
   ]
  },
  {
   "cell_type": "markdown",
   "metadata": {},
   "source": [
    "## 读取公司运营数据"
   ]
  },
  {
   "cell_type": "code",
   "execution_count": 7,
   "metadata": {
    "uuid": "fb64a5dd-97ed-4d21-bf9f-4078e1d88ed2"
   },
   "outputs": [],
   "source": [
    "df_comp  = pd.read_csv(\"Data/df_comp.csv\",index_col=0)\n",
    "    #原始数据为公司运营数据表：CompanyOperating.xlsx\n",
    "    #在tidyingCompanyOperating中进行规整化处理"
   ]
  },
  {
   "cell_type": "markdown",
   "metadata": {},
   "source": [
    "## 读取股票行情数据"
   ]
  },
  {
   "cell_type": "code",
   "execution_count": 8,
   "metadata": {
    "uuid": "fb64a5dd-97ed-4d21-bf9f-4078e1d88ed2"
   },
   "outputs": [],
   "source": [
    "df_share = pd.read_csv(\"Data/df_share.csv\" ,index_col=0)\n",
    "    #元数据为股票行情数据表：MarketData.xlsx"
   ]
  },
  {
   "cell_type": "markdown",
   "metadata": {},
   "source": [
    "## 读取用于特征生成的资产负债表"
   ]
  },
  {
   "cell_type": "code",
   "execution_count": 9,
   "metadata": {
    "uuid": "fb64a5dd-97ed-4d21-bf9f-4078e1d88ed2"
   },
   "outputs": [],
   "source": [
    "# df_bank_toCreateFeature.csv中已经把利润表放进来了\n",
    "    #df_bank = fg.tidyBalanceAndIncomeData(df_BalanceSheet_Bank,df_IncomeStatement_Bank)\n",
    "    \n",
    "df_bank=pd.read_csv(\"Data/df_bank_toCreateFeature.csv\", index_col= 0, converters={'END_DATE': pd.Timestamp})\n",
    "    #注：df_bank必须df_bank_toCreateFeature.csv，该数据在主程序中产生"
   ]
  },
  {
   "cell_type": "markdown",
   "metadata": {},
   "source": [
    "# 参数设置"
   ]
  },
  {
   "cell_type": "code",
   "execution_count": 10,
   "metadata": {
    "uuid": "849d94e2-c75d-43fc-8d44-f0569d0b8e7a"
   },
   "outputs": [],
   "source": [
    "DATETIME_UNITS = \"QUARTER\"#YEAR，QUARTER，HALF\n",
    "START_DATE = pd.Timestamp('2008-01-01')#年份开始时间\n",
    "IS_ONEHOT =  False#是否设成热独编码\n",
    "N_QUANTILES = 80#离散份数：按多少分位数分\n",
    "N_LAG = 5#偏移阶数\n",
    "N_TREES = 100#因子筛选：树数量\n",
    "P_FEATUREIMP = 0.9999#选择因子前多少百分比的重要性\n",
    "P_FEATRUES = 0.8#随机森林特征选择比例"
   ]
  },
  {
   "cell_type": "code",
   "execution_count": 11,
   "metadata": {
    "uuid": "7cb67b2c-fe1c-4580-b50c-195e73363375"
   },
   "outputs": [],
   "source": [
    "#传入的参数值\n",
    "GB_Income_Statement = df_bank\n",
    "df_indus_g = df_indus \n",
    "df_comp_g = df_comp \n",
    "df_share_g = df_share"
   ]
  },
  {
   "cell_type": "code",
   "execution_count": 12,
   "metadata": {},
   "outputs": [
    {
     "data": {
      "text/plain": [
       "True"
      ]
     },
     "execution_count": 12,
     "metadata": {},
     "output_type": "execute_result"
    }
   ],
   "source": [
    "\"year\" in df_bank.columns"
   ]
  },
  {
   "cell_type": "markdown",
   "metadata": {},
   "source": [
    "# 将每个表中的'TICKER_SYMBOL'，year，month 三列的类型改为字符串"
   ]
  },
  {
   "cell_type": "code",
   "execution_count": 13,
   "metadata": {
    "uuid": "78f6b968-870d-49ae-a055-4cf7a130df9e"
   },
   "outputs": [],
   "source": [
    "#一些列的取值准换为字符串\n",
    "GB_Income_Statement['TICKER_SYMBOL'] = GB_Income_Statement['TICKER_SYMBOL'].astype(str)\n",
    "df_comp_g['TICKER_SYMBOL'] = df_comp_g['TICKER_SYMBOL'].astype(str)\n",
    "df_share_g['TICKER_SYMBOL'] = df_share_g['TICKER_SYMBOL'].astype(str)\n",
    "GB_Income_Statement['year'] = GB_Income_Statement['year'].astype(str)\n",
    "df_indus_g['year'] = df_indus_g['year'].astype(str)\n",
    "df_comp_g['year'] = df_comp_g['year'].astype(str)\n",
    "df_share_g['year'] = df_share_g['year'].astype(str)\n",
    "GB_Income_Statement['month'] = GB_Income_Statement['month'].astype(str)\n",
    "df_indus_g['month'] = df_indus_g['month'].astype(str)\n",
    "df_comp_g['month'] = df_comp_g['month'].astype(str)\n",
    "df_share_g['month'] = df_share_g['month'].astype(str)\n"
   ]
  },
  {
   "cell_type": "markdown",
   "metadata": {
    "uuid": "fae007ad-d32f-4696-93ed-72cf377acac5"
   },
   "source": [
    "# 合并 df_bank,df_comp,df_indus,df_share"
   ]
  },
  {
   "cell_type": "code",
   "execution_count": 14,
   "metadata": {
    "uuid": "197ce4be-fbf7-40a2-82f8-df4e9980f6c3"
   },
   "outputs": [
    {
     "name": "stdout",
     "output_type": "stream",
     "text": [
      "*合并开始..............\n",
      "*合并完毕..............\n"
     ]
    },
    {
     "data": {
      "text/plain": [
       "(771, 738)"
      ]
     },
     "execution_count": 14,
     "metadata": {},
     "output_type": "execute_result"
    }
   ],
   "source": [
    "print('*合并开始..............')\n",
    "df_train = pd.merge(GB_Income_Statement,df_comp_g,how='left',on=['TICKER_SYMBOL','year', 'month']).fillna(0)\n",
    "df_train = pd.merge(df_train,df_indus_g,how='left',on=['year', 'month']).fillna(0)\n",
    "df_train = pd.merge(df_train,df_share_g,how='left',on=['TICKER_SYMBOL','year', 'month']).fillna(0)\n",
    "   \n",
    "print('*合并完毕..............')\n",
    "df_train.shape"
   ]
  },
  {
   "cell_type": "markdown",
   "metadata": {
    "uuid": "0643008b-5f99-4ef5-b01c-b7fce6fbb4e9"
   },
   "source": [
    "# 垃圾回收"
   ]
  },
  {
   "cell_type": "code",
   "execution_count": 15,
   "metadata": {
    "uuid": "1554befe-06ed-4256-8602-d8498436e076"
   },
   "outputs": [],
   "source": [
    "# import gc\n",
    "# del df_indus_g\n",
    "# del df_comp_g\n",
    "# del df_share_g\n",
    "# del GB_Income_Statement\n",
    "# gc.collect() #垃圾回收"
   ]
  },
  {
   "cell_type": "markdown",
   "metadata": {},
   "source": [
    "# 时间过滤"
   ]
  },
  {
   "cell_type": "code",
   "execution_count": 16,
   "metadata": {
    "uuid": "ea77cbd5-16ff-44e2-b0c8-c31795533ff1"
   },
   "outputs": [
    {
     "data": {
      "text/plain": [
       "0     2008-12-31\n",
       "1     2009-03-31\n",
       "2     2009-06-30\n",
       "3     2009-09-30\n",
       "4     2009-12-31\n",
       "         ...    \n",
       "766   2017-03-31\n",
       "767   2017-06-30\n",
       "768   2017-09-30\n",
       "769   2017-12-31\n",
       "770   2018-03-31\n",
       "Name: END_DATE, Length: 771, dtype: datetime64[ns]"
      ]
     },
     "execution_count": 16,
     "metadata": {},
     "output_type": "execute_result"
    }
   ],
   "source": [
    "df_train['END_DATE']"
   ]
  },
  {
   "cell_type": "code",
   "execution_count": 17,
   "metadata": {
    "uuid": "216c906c-99a3-4af5-a5db-7bc92290a00d"
   },
   "outputs": [],
   "source": [
    "#筛选时间\n",
    "START_DATE = pd.Timestamp('2008-01-01')#年份开始时间\n",
    "df_train = df_train[df_train['END_DATE']>=START_DATE]"
   ]
  },
  {
   "cell_type": "code",
   "execution_count": 18,
   "metadata": {},
   "outputs": [
    {
     "data": {
      "text/plain": [
       "(768, 738)"
      ]
     },
     "execution_count": 18,
     "metadata": {},
     "output_type": "execute_result"
    }
   ],
   "source": [
    "df_train.shape"
   ]
  },
  {
   "cell_type": "markdown",
   "metadata": {
    "uuid": "216c906c-99a3-4af5-a5db-7bc92290a00d"
   },
   "source": [
    "# 删除方差过小的列"
   ]
  },
  {
   "cell_type": "code",
   "execution_count": 19,
   "metadata": {
    "uuid": "e0c677e2-52d8-4095-b1d2-25fe64148bb4"
   },
   "outputs": [
    {
     "data": {
      "text/html": [
       "<div>\n",
       "<style scoped>\n",
       "    .dataframe tbody tr th:only-of-type {\n",
       "        vertical-align: middle;\n",
       "    }\n",
       "\n",
       "    .dataframe tbody tr th {\n",
       "        vertical-align: top;\n",
       "    }\n",
       "\n",
       "    .dataframe thead th {\n",
       "        text-align: right;\n",
       "    }\n",
       "</style>\n",
       "<table border=\"1\" class=\"dataframe\">\n",
       "  <thead>\n",
       "    <tr style=\"text-align: right;\">\n",
       "      <th></th>\n",
       "      <th>TICKER_SYMBOL</th>\n",
       "      <th>END_DATE</th>\n",
       "      <th>C_RESER_CB</th>\n",
       "      <th>DEPOS_IN_OTH_BFI</th>\n",
       "      <th>PRECI_METALS</th>\n",
       "      <th>LOAN_TO_OTH_BANK_FI</th>\n",
       "      <th>TRADING_FA</th>\n",
       "      <th>DERIV_ASSETS</th>\n",
       "      <th>PUR_RESALE_FA</th>\n",
       "      <th>INT_RECEIV</th>\n",
       "      <th>...</th>\n",
       "      <th>DATA_VALUE2170726263</th>\n",
       "      <th>DATA_VALUE2170726264</th>\n",
       "      <th>DATA_VALUE2170726265</th>\n",
       "      <th>DATA_VALUE2170726266</th>\n",
       "      <th>DATA_VALUE2210200588</th>\n",
       "      <th>Unnamed: 0.1</th>\n",
       "      <th>CLOSE_PRICE</th>\n",
       "      <th>TURNOVER_VOL</th>\n",
       "      <th>TURNOVER_VALUE</th>\n",
       "      <th>MARKET_VALUE</th>\n",
       "    </tr>\n",
       "  </thead>\n",
       "  <tbody>\n",
       "    <tr>\n",
       "      <th>0</th>\n",
       "      <td>1</td>\n",
       "      <td>2008-12-31</td>\n",
       "      <td>3.976790e+10</td>\n",
       "      <td>2.150081e+10</td>\n",
       "      <td>9225000.0</td>\n",
       "      <td>9.236676e+09</td>\n",
       "      <td>4.144100e+07</td>\n",
       "      <td>290751000.0</td>\n",
       "      <td>3.473335e+10</td>\n",
       "      <td>1.605636e+09</td>\n",
       "      <td>...</td>\n",
       "      <td>6.460656</td>\n",
       "      <td>7.135</td>\n",
       "      <td>4.753279</td>\n",
       "      <td>1.349286</td>\n",
       "      <td>10.376667</td>\n",
       "      <td>7.0</td>\n",
       "      <td>3.019333</td>\n",
       "      <td>9.124747e+08</td>\n",
       "      <td>9.579367e+09</td>\n",
       "      <td>2.776258e+10</td>\n",
       "    </tr>\n",
       "    <tr>\n",
       "      <th>1</th>\n",
       "      <td>1</td>\n",
       "      <td>2009-03-31</td>\n",
       "      <td>3.954528e+10</td>\n",
       "      <td>3.281080e+10</td>\n",
       "      <td>7080000.0</td>\n",
       "      <td>9.836695e+09</td>\n",
       "      <td>1.363916e+09</td>\n",
       "      <td>200250000.0</td>\n",
       "      <td>3.247499e+10</td>\n",
       "      <td>1.946312e+09</td>\n",
       "      <td>...</td>\n",
       "      <td>6.460656</td>\n",
       "      <td>7.135</td>\n",
       "      <td>4.753279</td>\n",
       "      <td>1.349286</td>\n",
       "      <td>8.543333</td>\n",
       "      <td>8.0</td>\n",
       "      <td>4.658667</td>\n",
       "      <td>1.096579e+09</td>\n",
       "      <td>1.452570e+10</td>\n",
       "      <td>4.283428e+10</td>\n",
       "    </tr>\n",
       "    <tr>\n",
       "      <th>2</th>\n",
       "      <td>1</td>\n",
       "      <td>2009-06-30</td>\n",
       "      <td>4.222817e+10</td>\n",
       "      <td>2.081290e+10</td>\n",
       "      <td>5342000.0</td>\n",
       "      <td>7.998342e+09</td>\n",
       "      <td>1.785393e+09</td>\n",
       "      <td>162354000.0</td>\n",
       "      <td>3.795794e+10</td>\n",
       "      <td>1.711397e+09</td>\n",
       "      <td>...</td>\n",
       "      <td>6.460656</td>\n",
       "      <td>7.135</td>\n",
       "      <td>4.753279</td>\n",
       "      <td>1.349286</td>\n",
       "      <td>7.883333</td>\n",
       "      <td>9.0</td>\n",
       "      <td>6.302333</td>\n",
       "      <td>8.111175e+08</td>\n",
       "      <td>1.525179e+10</td>\n",
       "      <td>5.794739e+10</td>\n",
       "    </tr>\n",
       "    <tr>\n",
       "      <th>3</th>\n",
       "      <td>1</td>\n",
       "      <td>2009-09-30</td>\n",
       "      <td>4.542918e+10</td>\n",
       "      <td>1.781418e+10</td>\n",
       "      <td>4694000.0</td>\n",
       "      <td>8.416666e+09</td>\n",
       "      <td>1.408176e+09</td>\n",
       "      <td>173611000.0</td>\n",
       "      <td>3.602692e+10</td>\n",
       "      <td>1.660956e+09</td>\n",
       "      <td>...</td>\n",
       "      <td>6.460656</td>\n",
       "      <td>7.135</td>\n",
       "      <td>4.753279</td>\n",
       "      <td>1.349286</td>\n",
       "      <td>8.126667</td>\n",
       "      <td>10.0</td>\n",
       "      <td>7.248000</td>\n",
       "      <td>9.065716e+08</td>\n",
       "      <td>2.042128e+10</td>\n",
       "      <td>6.664261e+10</td>\n",
       "    </tr>\n",
       "    <tr>\n",
       "      <th>4</th>\n",
       "      <td>1</td>\n",
       "      <td>2009-12-31</td>\n",
       "      <td>5.424395e+10</td>\n",
       "      <td>1.559254e+10</td>\n",
       "      <td>3302000.0</td>\n",
       "      <td>5.361139e+09</td>\n",
       "      <td>1.132048e+09</td>\n",
       "      <td>99996000.0</td>\n",
       "      <td>4.092340e+10</td>\n",
       "      <td>1.625700e+09</td>\n",
       "      <td>...</td>\n",
       "      <td>6.460656</td>\n",
       "      <td>7.135</td>\n",
       "      <td>4.753279</td>\n",
       "      <td>1.349286</td>\n",
       "      <td>8.073333</td>\n",
       "      <td>11.0</td>\n",
       "      <td>8.006000</td>\n",
       "      <td>5.768548e+08</td>\n",
       "      <td>1.390735e+10</td>\n",
       "      <td>7.360913e+10</td>\n",
       "    </tr>\n",
       "  </tbody>\n",
       "</table>\n",
       "<p>5 rows × 736 columns</p>\n",
       "</div>"
      ],
      "text/plain": [
       "  TICKER_SYMBOL   END_DATE    C_RESER_CB  DEPOS_IN_OTH_BFI  PRECI_METALS  \\\n",
       "0             1 2008-12-31  3.976790e+10      2.150081e+10     9225000.0   \n",
       "1             1 2009-03-31  3.954528e+10      3.281080e+10     7080000.0   \n",
       "2             1 2009-06-30  4.222817e+10      2.081290e+10     5342000.0   \n",
       "3             1 2009-09-30  4.542918e+10      1.781418e+10     4694000.0   \n",
       "4             1 2009-12-31  5.424395e+10      1.559254e+10     3302000.0   \n",
       "\n",
       "   LOAN_TO_OTH_BANK_FI    TRADING_FA  DERIV_ASSETS  PUR_RESALE_FA  \\\n",
       "0         9.236676e+09  4.144100e+07   290751000.0   3.473335e+10   \n",
       "1         9.836695e+09  1.363916e+09   200250000.0   3.247499e+10   \n",
       "2         7.998342e+09  1.785393e+09   162354000.0   3.795794e+10   \n",
       "3         8.416666e+09  1.408176e+09   173611000.0   3.602692e+10   \n",
       "4         5.361139e+09  1.132048e+09    99996000.0   4.092340e+10   \n",
       "\n",
       "     INT_RECEIV  ...  DATA_VALUE2170726263  DATA_VALUE2170726264  \\\n",
       "0  1.605636e+09  ...              6.460656                 7.135   \n",
       "1  1.946312e+09  ...              6.460656                 7.135   \n",
       "2  1.711397e+09  ...              6.460656                 7.135   \n",
       "3  1.660956e+09  ...              6.460656                 7.135   \n",
       "4  1.625700e+09  ...              6.460656                 7.135   \n",
       "\n",
       "   DATA_VALUE2170726265  DATA_VALUE2170726266  DATA_VALUE2210200588  \\\n",
       "0              4.753279              1.349286             10.376667   \n",
       "1              4.753279              1.349286              8.543333   \n",
       "2              4.753279              1.349286              7.883333   \n",
       "3              4.753279              1.349286              8.126667   \n",
       "4              4.753279              1.349286              8.073333   \n",
       "\n",
       "   Unnamed: 0.1  CLOSE_PRICE  TURNOVER_VOL  TURNOVER_VALUE  MARKET_VALUE  \n",
       "0           7.0     3.019333  9.124747e+08    9.579367e+09  2.776258e+10  \n",
       "1           8.0     4.658667  1.096579e+09    1.452570e+10  4.283428e+10  \n",
       "2           9.0     6.302333  8.111175e+08    1.525179e+10  5.794739e+10  \n",
       "3          10.0     7.248000  9.065716e+08    2.042128e+10  6.664261e+10  \n",
       "4          11.0     8.006000  5.768548e+08    1.390735e+10  7.360913e+10  \n",
       "\n",
       "[5 rows x 736 columns]"
      ]
     },
     "execution_count": 19,
     "metadata": {},
     "output_type": "execute_result"
    }
   ],
   "source": [
    "#排序\n",
    "import numpy as np\n",
    "import pandas as pd\n",
    "\n",
    "df_train = df_train.drop(['year','month'],1).sort_values(['TICKER_SYMBOL','END_DATE'])\n",
    "df_train.head()"
   ]
  },
  {
   "cell_type": "code",
   "execution_count": 20,
   "metadata": {
    "uuid": "e0c677e2-52d8-4095-b1d2-25fe64148bb4"
   },
   "outputs": [],
   "source": [
    "#替换\n",
    "df_train = df_train.replace([np.inf, -np.inf], np.nan)"
   ]
  },
  {
   "cell_type": "code",
   "execution_count": 21,
   "metadata": {
    "uuid": "e0c677e2-52d8-4095-b1d2-25fe64148bb4"
   },
   "outputs": [],
   "source": [
    "#向前填充\n",
    "df_train = df_train.groupby(\"TICKER_SYMBOL\").apply(lambda x:x.ffill())"
   ]
  },
  {
   "cell_type": "code",
   "execution_count": 22,
   "metadata": {
    "uuid": "e0c677e2-52d8-4095-b1d2-25fe64148bb4"
   },
   "outputs": [],
   "source": [
    "#计算方差\n",
    "sr_var = df_train.var(axis =0)"
   ]
  },
  {
   "cell_type": "code",
   "execution_count": 23,
   "metadata": {
    "uuid": "e0c677e2-52d8-4095-b1d2-25fe64148bb4"
   },
   "outputs": [
    {
     "data": {
      "text/plain": [
       "87"
      ]
     },
     "execution_count": 23,
     "metadata": {},
     "output_type": "execute_result"
    }
   ],
   "source": [
    "#选择方差过小的列名\n",
    "kill_col = sr_var[sr_var<=0.0000001]\n",
    "kill_col.size\n",
    "#共有87个"
   ]
  },
  {
   "cell_type": "code",
   "execution_count": 24,
   "metadata": {
    "uuid": "e0c677e2-52d8-4095-b1d2-25fe64148bb4"
   },
   "outputs": [
    {
     "data": {
      "text/plain": [
       "(768, 649)"
      ]
     },
     "execution_count": 24,
     "metadata": {},
     "output_type": "execute_result"
    }
   ],
   "source": [
    "#删除方差过小的列\n",
    "df_train = df_train.drop(kill_col.index,1)\n",
    "\n",
    "##### 测试\n",
    "df_train.shape"
   ]
  },
  {
   "cell_type": "code",
   "execution_count": 25,
   "metadata": {
    "uuid": "e0c677e2-52d8-4095-b1d2-25fe64148bb4"
   },
   "outputs": [],
   "source": [
    "#读取训练集\n",
    "df_train.to_csv('Data/df_train.csv')\n",
    "df_train=pd.read_csv('Data/df_train.csv',index_col=0)\n"
   ]
  },
  {
   "cell_type": "code",
   "execution_count": 26,
   "metadata": {
    "uuid": "73a1ed38-6d58-40a8-af11-d5f0f5806759"
   },
   "outputs": [
    {
     "data": {
      "text/plain": [
       "(768, 649)"
      ]
     },
     "execution_count": 26,
     "metadata": {},
     "output_type": "execute_result"
    }
   ],
   "source": [
    "df_train.shape\n",
    "#((768, 649), (768, 649))"
   ]
  },
  {
   "cell_type": "code",
   "execution_count": 27,
   "metadata": {},
   "outputs": [
    {
     "data": {
      "text/plain": [
       "Index(['TICKER_SYMBOL', 'END_DATE', 'C_RESER_CB', 'DEPOS_IN_OTH_BFI',\n",
       "       'PRECI_METALS', 'LOAN_TO_OTH_BANK_FI', 'TRADING_FA', 'DERIV_ASSETS',\n",
       "       'PUR_RESALE_FA', 'INT_RECEIV',\n",
       "       ...\n",
       "       'DATA_VALUE2170726263', 'DATA_VALUE2170726264', 'DATA_VALUE2170726265',\n",
       "       'DATA_VALUE2170726266', 'DATA_VALUE2210200588', 'Unnamed: 0.1',\n",
       "       'CLOSE_PRICE', 'TURNOVER_VOL', 'TURNOVER_VALUE', 'MARKET_VALUE'],\n",
       "      dtype='object', length=649)"
      ]
     },
     "execution_count": 27,
     "metadata": {},
     "output_type": "execute_result"
    }
   ],
   "source": [
    "df_train.columns"
   ]
  },
  {
   "cell_type": "markdown",
   "metadata": {},
   "source": [
    "# 产生窗口特征"
   ]
  },
  {
   "cell_type": "code",
   "execution_count": 28,
   "metadata": {
    "uuid": "24cb195e-e682-4f9c-93fb-2a75b3dff8bb"
   },
   "outputs": [
    {
     "name": "stdout",
     "output_type": "stream",
     "text": [
      "1\n",
      "2\n",
      "3\n",
      "4\n",
      "5\n"
     ]
    }
   ],
   "source": [
    "df_train_lag = featureEngineeringTimeSeriesData(df_train,N_LAG)\n",
    "df_train_f =  pd.concat([df_train,df_train_lag],axis=1)"
   ]
  },
  {
   "cell_type": "markdown",
   "metadata": {
    "uuid": "24cb195e-e682-4f9c-93fb-2a75b3dff8bb"
   },
   "source": [
    "# 特征的离散化处理"
   ]
  },
  {
   "cell_type": "code",
   "execution_count": 29,
   "metadata": {
    "uuid": "24cb195e-e682-4f9c-93fb-2a75b3dff8bb"
   },
   "outputs": [
    {
     "name": "stdout",
     "output_type": "stream",
     "text": [
      "调用biningAndRankingData（），开始进行分箱和赋排名处理-------\n"
     ]
    },
    {
     "data": {
      "text/html": [
       "<div>\n",
       "<style scoped>\n",
       "    .dataframe tbody tr th:only-of-type {\n",
       "        vertical-align: middle;\n",
       "    }\n",
       "\n",
       "    .dataframe tbody tr th {\n",
       "        vertical-align: top;\n",
       "    }\n",
       "\n",
       "    .dataframe thead th {\n",
       "        text-align: right;\n",
       "    }\n",
       "</style>\n",
       "<table border=\"1\" class=\"dataframe\">\n",
       "  <thead>\n",
       "    <tr style=\"text-align: right;\">\n",
       "      <th></th>\n",
       "      <th>TICKER_SYMBOL</th>\n",
       "      <th>END_DATE</th>\n",
       "      <th>C_RESER_CB</th>\n",
       "      <th>DEPOS_IN_OTH_BFI</th>\n",
       "      <th>PRECI_METALS</th>\n",
       "      <th>LOAN_TO_OTH_BANK_FI</th>\n",
       "      <th>TRADING_FA</th>\n",
       "      <th>DERIV_ASSETS</th>\n",
       "      <th>PUR_RESALE_FA</th>\n",
       "      <th>INT_RECEIV</th>\n",
       "      <th>...</th>\n",
       "      <th>RANK_DATA_VALUE2170726263</th>\n",
       "      <th>RANK_DATA_VALUE2170726264</th>\n",
       "      <th>RANK_DATA_VALUE2170726265</th>\n",
       "      <th>RANK_DATA_VALUE2170726266</th>\n",
       "      <th>RANK_DATA_VALUE2210200588</th>\n",
       "      <th>RANK_Unnamed: 0.1</th>\n",
       "      <th>RANK_CLOSE_PRICE</th>\n",
       "      <th>RANK_TURNOVER_VOL</th>\n",
       "      <th>RANK_TURNOVER_VALUE</th>\n",
       "      <th>RANK_MARKET_VALUE</th>\n",
       "    </tr>\n",
       "  </thead>\n",
       "  <tbody>\n",
       "    <tr>\n",
       "      <th>0</th>\n",
       "      <td>1</td>\n",
       "      <td>2008-12-31</td>\n",
       "      <td>3.976790e+10</td>\n",
       "      <td>2.150081e+10</td>\n",
       "      <td>9225000.0</td>\n",
       "      <td>9.236676e+09</td>\n",
       "      <td>4.144100e+07</td>\n",
       "      <td>290751000.0</td>\n",
       "      <td>3.473335e+10</td>\n",
       "      <td>1.605636e+09</td>\n",
       "      <td>...</td>\n",
       "      <td>190.0</td>\n",
       "      <td>165.0</td>\n",
       "      <td>136.0</td>\n",
       "      <td>162.0</td>\n",
       "      <td>712.0</td>\n",
       "      <td>97.0</td>\n",
       "      <td>208.0</td>\n",
       "      <td>390.0</td>\n",
       "      <td>449.0</td>\n",
       "      <td>160.0</td>\n",
       "    </tr>\n",
       "    <tr>\n",
       "      <th>1</th>\n",
       "      <td>1</td>\n",
       "      <td>2009-03-31</td>\n",
       "      <td>3.954528e+10</td>\n",
       "      <td>3.281080e+10</td>\n",
       "      <td>7080000.0</td>\n",
       "      <td>9.836695e+09</td>\n",
       "      <td>1.363916e+09</td>\n",
       "      <td>200250000.0</td>\n",
       "      <td>3.247499e+10</td>\n",
       "      <td>1.946312e+09</td>\n",
       "      <td>...</td>\n",
       "      <td>190.0</td>\n",
       "      <td>165.0</td>\n",
       "      <td>136.0</td>\n",
       "      <td>162.0</td>\n",
       "      <td>287.0</td>\n",
       "      <td>98.0</td>\n",
       "      <td>386.0</td>\n",
       "      <td>441.0</td>\n",
       "      <td>559.0</td>\n",
       "      <td>202.0</td>\n",
       "    </tr>\n",
       "    <tr>\n",
       "      <th>2</th>\n",
       "      <td>1</td>\n",
       "      <td>2009-06-30</td>\n",
       "      <td>4.222817e+10</td>\n",
       "      <td>2.081290e+10</td>\n",
       "      <td>5342000.0</td>\n",
       "      <td>7.998342e+09</td>\n",
       "      <td>1.785393e+09</td>\n",
       "      <td>162354000.0</td>\n",
       "      <td>3.795794e+10</td>\n",
       "      <td>1.711397e+09</td>\n",
       "      <td>...</td>\n",
       "      <td>190.0</td>\n",
       "      <td>165.0</td>\n",
       "      <td>136.0</td>\n",
       "      <td>162.0</td>\n",
       "      <td>216.0</td>\n",
       "      <td>99.0</td>\n",
       "      <td>509.0</td>\n",
       "      <td>360.0</td>\n",
       "      <td>572.0</td>\n",
       "      <td>231.0</td>\n",
       "    </tr>\n",
       "    <tr>\n",
       "      <th>3</th>\n",
       "      <td>1</td>\n",
       "      <td>2009-09-30</td>\n",
       "      <td>4.542918e+10</td>\n",
       "      <td>1.781418e+10</td>\n",
       "      <td>4694000.0</td>\n",
       "      <td>8.416666e+09</td>\n",
       "      <td>1.408176e+09</td>\n",
       "      <td>173611000.0</td>\n",
       "      <td>3.602692e+10</td>\n",
       "      <td>1.660956e+09</td>\n",
       "      <td>...</td>\n",
       "      <td>190.0</td>\n",
       "      <td>165.0</td>\n",
       "      <td>136.0</td>\n",
       "      <td>162.0</td>\n",
       "      <td>253.0</td>\n",
       "      <td>100.0</td>\n",
       "      <td>558.0</td>\n",
       "      <td>385.0</td>\n",
       "      <td>633.0</td>\n",
       "      <td>255.0</td>\n",
       "    </tr>\n",
       "    <tr>\n",
       "      <th>4</th>\n",
       "      <td>1</td>\n",
       "      <td>2009-12-31</td>\n",
       "      <td>5.424395e+10</td>\n",
       "      <td>1.559254e+10</td>\n",
       "      <td>3302000.0</td>\n",
       "      <td>5.361139e+09</td>\n",
       "      <td>1.132048e+09</td>\n",
       "      <td>99996000.0</td>\n",
       "      <td>4.092340e+10</td>\n",
       "      <td>1.625700e+09</td>\n",
       "      <td>...</td>\n",
       "      <td>190.0</td>\n",
       "      <td>165.0</td>\n",
       "      <td>136.0</td>\n",
       "      <td>162.0</td>\n",
       "      <td>233.0</td>\n",
       "      <td>101.0</td>\n",
       "      <td>594.0</td>\n",
       "      <td>267.0</td>\n",
       "      <td>551.0</td>\n",
       "      <td>280.0</td>\n",
       "    </tr>\n",
       "  </tbody>\n",
       "</table>\n",
       "<p>5 rows × 5178 columns</p>\n",
       "</div>"
      ],
      "text/plain": [
       "   TICKER_SYMBOL    END_DATE    C_RESER_CB  DEPOS_IN_OTH_BFI  PRECI_METALS  \\\n",
       "0              1  2008-12-31  3.976790e+10      2.150081e+10     9225000.0   \n",
       "1              1  2009-03-31  3.954528e+10      3.281080e+10     7080000.0   \n",
       "2              1  2009-06-30  4.222817e+10      2.081290e+10     5342000.0   \n",
       "3              1  2009-09-30  4.542918e+10      1.781418e+10     4694000.0   \n",
       "4              1  2009-12-31  5.424395e+10      1.559254e+10     3302000.0   \n",
       "\n",
       "   LOAN_TO_OTH_BANK_FI    TRADING_FA  DERIV_ASSETS  PUR_RESALE_FA  \\\n",
       "0         9.236676e+09  4.144100e+07   290751000.0   3.473335e+10   \n",
       "1         9.836695e+09  1.363916e+09   200250000.0   3.247499e+10   \n",
       "2         7.998342e+09  1.785393e+09   162354000.0   3.795794e+10   \n",
       "3         8.416666e+09  1.408176e+09   173611000.0   3.602692e+10   \n",
       "4         5.361139e+09  1.132048e+09    99996000.0   4.092340e+10   \n",
       "\n",
       "     INT_RECEIV  ...  RANK_DATA_VALUE2170726263  RANK_DATA_VALUE2170726264  \\\n",
       "0  1.605636e+09  ...                      190.0                      165.0   \n",
       "1  1.946312e+09  ...                      190.0                      165.0   \n",
       "2  1.711397e+09  ...                      190.0                      165.0   \n",
       "3  1.660956e+09  ...                      190.0                      165.0   \n",
       "4  1.625700e+09  ...                      190.0                      165.0   \n",
       "\n",
       "   RANK_DATA_VALUE2170726265  RANK_DATA_VALUE2170726266  \\\n",
       "0                      136.0                      162.0   \n",
       "1                      136.0                      162.0   \n",
       "2                      136.0                      162.0   \n",
       "3                      136.0                      162.0   \n",
       "4                      136.0                      162.0   \n",
       "\n",
       "   RANK_DATA_VALUE2210200588  RANK_Unnamed: 0.1  RANK_CLOSE_PRICE  \\\n",
       "0                      712.0               97.0             208.0   \n",
       "1                      287.0               98.0             386.0   \n",
       "2                      216.0               99.0             509.0   \n",
       "3                      253.0              100.0             558.0   \n",
       "4                      233.0              101.0             594.0   \n",
       "\n",
       "   RANK_TURNOVER_VOL  RANK_TURNOVER_VALUE  RANK_MARKET_VALUE  \n",
       "0              390.0                449.0              160.0  \n",
       "1              441.0                559.0              202.0  \n",
       "2              360.0                572.0              231.0  \n",
       "3              385.0                633.0              255.0  \n",
       "4              267.0                551.0              280.0  \n",
       "\n",
       "[5 rows x 5178 columns]"
      ]
     },
     "execution_count": 29,
     "metadata": {},
     "output_type": "execute_result"
    }
   ],
   "source": [
    "df_dis_rank = biningAndRankingData(df_train.iloc[:,2:],n_Quantile=N_QUANTILES,is_onehot=IS_ONEHOT)#排序\n",
    "df_train_f =  pd.concat([df_train_f,df_dis_rank],axis=1)\n",
    "df_train_f = df_train_f.fillna(0)\n",
    "df_train_f.head()"
   ]
  },
  {
   "cell_type": "code",
   "execution_count": null,
   "metadata": {
    "uuid": "fd4177ed-4303-4176-8b64-b613d3c8de43"
   },
   "outputs": [],
   "source": []
  }
 ],
 "metadata": {
  "kernelspec": {
   "display_name": "Python 3 (ipykernel)",
   "language": "python",
   "name": "python3"
  },
  "language_info": {
   "codemirror_mode": {
    "name": "ipython",
    "version": 3
   },
   "file_extension": ".py",
   "mimetype": "text/x-python",
   "name": "python",
   "nbconvert_exporter": "python",
   "pygments_lexer": "ipython3",
   "version": "3.9.13"
  },
  "toc": {
   "base_numbering": 1,
   "nav_menu": {},
   "number_sections": true,
   "sideBar": true,
   "skip_h1_title": false,
   "title_cell": "Table of Contents",
   "title_sidebar": "Contents",
   "toc_cell": false,
   "toc_position": {},
   "toc_section_display": true,
   "toc_window_display": true
  }
 },
 "nbformat": 4,
 "nbformat_minor": 4
}
