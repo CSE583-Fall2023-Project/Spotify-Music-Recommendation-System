{
 "cells": [
  {
   "cell_type": "markdown",
   "metadata": {
    "uuid": "ed660e2d-eb17-4a82-a70b-5665d4e97d54"
   },
   "source": [
    "# 1.数据可视化训练"
   ]
  },
  {
   "cell_type": "markdown",
   "metadata": {
    "uuid": "17961574-2e7c-4785-9ee4-b183defda75b"
   },
   "source": [
    "## 1.1.导入模块及设置中文字体"
   ]
  },
  {
   "cell_type": "code",
   "execution_count": 1,
   "metadata": {
    "uuid": "905d5497-ee8c-462a-a821-438dbc3a42e6"
   },
   "outputs": [],
   "source": [
    "#导入数据包\n",
    "import numpy as np\n",
    "import pandas as pd\n",
    "import matplotlib.pyplot as plt"
   ]
  },
  {
   "cell_type": "code",
   "execution_count": 2,
   "metadata": {
    "uuid": "f235073e-5d5d-4b12-83c4-e847c105160a"
   },
   "outputs": [
    {
     "name": "stdout",
     "output_type": "stream",
     "text": [
      "[]\n"
     ]
    },
    {
     "ename": "AttributeError",
     "evalue": "module 'matplotlib.font_manager' has no attribute 'createFontList'",
     "output_type": "error",
     "traceback": [
      "\u001b[0;31m---------------------------------------------------------------------------\u001b[0m",
      "\u001b[0;31mAttributeError\u001b[0m                            Traceback (most recent call last)",
      "\u001b[0;32m/var/folders/_l/v0rskbwn09q31pdlqx6mrsx40000gn/T/ipykernel_75217/1596736136.py\u001b[0m in \u001b[0;36m<module>\u001b[0;34m\u001b[0m\n\u001b[1;32m      5\u001b[0m \u001b[0mprint\u001b[0m\u001b[0;34m(\u001b[0m\u001b[0mfont_files\u001b[0m\u001b[0;34m)\u001b[0m\u001b[0;34m\u001b[0m\u001b[0;34m\u001b[0m\u001b[0m\n\u001b[1;32m      6\u001b[0m \u001b[0;34m\u001b[0m\u001b[0m\n\u001b[0;32m----> 7\u001b[0;31m \u001b[0mfont_list\u001b[0m \u001b[0;34m=\u001b[0m \u001b[0mfont_manager\u001b[0m\u001b[0;34m.\u001b[0m\u001b[0mcreateFontList\u001b[0m\u001b[0;34m(\u001b[0m\u001b[0mfont_files\u001b[0m\u001b[0;34m)\u001b[0m\u001b[0;34m\u001b[0m\u001b[0;34m\u001b[0m\u001b[0m\n\u001b[0m\u001b[1;32m      8\u001b[0m \u001b[0mprint\u001b[0m\u001b[0;34m(\u001b[0m\u001b[0mfont_list\u001b[0m\u001b[0;34m)\u001b[0m\u001b[0;34m\u001b[0m\u001b[0;34m\u001b[0m\u001b[0m\n\u001b[1;32m      9\u001b[0m \u001b[0;34m\u001b[0m\u001b[0m\n",
      "\u001b[0;31mAttributeError\u001b[0m: module 'matplotlib.font_manager' has no attribute 'createFontList'"
     ]
    }
   ],
   "source": [
    "#新增中文字体\n",
    "import matplotlib.font_manager as font_manager\n",
    "font_dirs = ['myfonts',]\n",
    "font_files = font_manager.findSystemFonts(fontpaths=font_dirs)\n",
    "print(font_files)\n",
    "\n",
    "font_list = font_manager.createFontList(font_files)\n",
    "print(font_list)\n",
    "\n",
    "font_manager.fontManager.ttflist.extend(font_list)"
   ]
  },
  {
   "cell_type": "markdown",
   "metadata": {
    "uuid": "9b2953a6-79fd-4c8d-b535-980e77d72491"
   },
   "source": [
    "## 1.2.读入数据并查看前10行"
   ]
  },
  {
   "cell_type": "code",
   "execution_count": 3,
   "metadata": {
    "uuid": "0bc8dee3-c919-4c54-945d-0df0c52e41c7"
   },
   "outputs": [
    {
     "data": {
      "text/html": [
       "<div>\n",
       "<style scoped>\n",
       "    .dataframe tbody tr th:only-of-type {\n",
       "        vertical-align: middle;\n",
       "    }\n",
       "\n",
       "    .dataframe tbody tr th {\n",
       "        vertical-align: top;\n",
       "    }\n",
       "\n",
       "    .dataframe thead th {\n",
       "        text-align: right;\n",
       "    }\n",
       "</style>\n",
       "<table border=\"1\" class=\"dataframe\">\n",
       "  <thead>\n",
       "    <tr style=\"text-align: right;\">\n",
       "      <th></th>\n",
       "      <th>PARTY_ID</th>\n",
       "      <th>TICKER_SYMBOL</th>\n",
       "      <th>EXCHANGE_CD</th>\n",
       "      <th>PUBLISH_DATE</th>\n",
       "      <th>END_DATE_REP</th>\n",
       "      <th>END_DATE</th>\n",
       "      <th>REPORT_TYPE</th>\n",
       "      <th>FISCAL_PERIOD</th>\n",
       "      <th>MERGED_FLAG</th>\n",
       "      <th>T_REVENUE</th>\n",
       "      <th>...</th>\n",
       "      <th>BASIC_EPS</th>\n",
       "      <th>DILUTED_EPS</th>\n",
       "      <th>OTH_COMPR_INCOME</th>\n",
       "      <th>OTH_EFFECT_CI</th>\n",
       "      <th>AE_EFFECT_CI</th>\n",
       "      <th>T_COMPR_INCOME</th>\n",
       "      <th>COMPR_INC_ATTR_P</th>\n",
       "      <th>COMPR_INC_ATTR_M_S</th>\n",
       "      <th>OTH_EFFECT_PCI</th>\n",
       "      <th>AE_EFFECT_PCI</th>\n",
       "    </tr>\n",
       "  </thead>\n",
       "  <tbody>\n",
       "    <tr>\n",
       "      <th>0</th>\n",
       "      <td>3</td>\n",
       "      <td>000002</td>\n",
       "      <td>XSHE</td>\n",
       "      <td>2009/4/27</td>\n",
       "      <td>2009/3/31</td>\n",
       "      <td>2009/3/31</td>\n",
       "      <td>Q1</td>\n",
       "      <td>3</td>\n",
       "      <td>1</td>\n",
       "      <td>8.164319e+09</td>\n",
       "      <td>...</td>\n",
       "      <td>0.0700</td>\n",
       "      <td>0.0700</td>\n",
       "      <td>NaN</td>\n",
       "      <td>NaN</td>\n",
       "      <td>NaN</td>\n",
       "      <td>NaN</td>\n",
       "      <td>NaN</td>\n",
       "      <td>NaN</td>\n",
       "      <td>NaN</td>\n",
       "      <td>NaN</td>\n",
       "    </tr>\n",
       "    <tr>\n",
       "      <th>1</th>\n",
       "      <td>3</td>\n",
       "      <td>000002</td>\n",
       "      <td>XSHE</td>\n",
       "      <td>2012/10/24</td>\n",
       "      <td>2012/9/30</td>\n",
       "      <td>2011/9/30</td>\n",
       "      <td>Q3</td>\n",
       "      <td>9</td>\n",
       "      <td>1</td>\n",
       "      <td>2.930837e+10</td>\n",
       "      <td>...</td>\n",
       "      <td>0.3300</td>\n",
       "      <td>0.3300</td>\n",
       "      <td>1.342794e+08</td>\n",
       "      <td>NaN</td>\n",
       "      <td>NaN</td>\n",
       "      <td>4.240628e+09</td>\n",
       "      <td>3.718190e+09</td>\n",
       "      <td>5.224388e+08</td>\n",
       "      <td>NaN</td>\n",
       "      <td>NaN</td>\n",
       "    </tr>\n",
       "    <tr>\n",
       "      <th>2</th>\n",
       "      <td>3</td>\n",
       "      <td>000002</td>\n",
       "      <td>XSHE</td>\n",
       "      <td>2014/8/18</td>\n",
       "      <td>2014/6/30</td>\n",
       "      <td>2013/6/30</td>\n",
       "      <td>S1</td>\n",
       "      <td>6</td>\n",
       "      <td>1</td>\n",
       "      <td>4.139035e+10</td>\n",
       "      <td>...</td>\n",
       "      <td>0.4100</td>\n",
       "      <td>0.4100</td>\n",
       "      <td>2.611946e+07</td>\n",
       "      <td>NaN</td>\n",
       "      <td>NaN</td>\n",
       "      <td>5.362011e+09</td>\n",
       "      <td>4.582424e+09</td>\n",
       "      <td>7.795864e+08</td>\n",
       "      <td>NaN</td>\n",
       "      <td>NaN</td>\n",
       "    </tr>\n",
       "    <tr>\n",
       "      <th>3</th>\n",
       "      <td>3</td>\n",
       "      <td>000002</td>\n",
       "      <td>XSHE</td>\n",
       "      <td>2015/3/31</td>\n",
       "      <td>2014/12/31</td>\n",
       "      <td>2014/12/31</td>\n",
       "      <td>A</td>\n",
       "      <td>12</td>\n",
       "      <td>1</td>\n",
       "      <td>1.460000e+11</td>\n",
       "      <td>...</td>\n",
       "      <td>1.4300</td>\n",
       "      <td>1.4300</td>\n",
       "      <td>6.460081e+07</td>\n",
       "      <td>NaN</td>\n",
       "      <td>NaN</td>\n",
       "      <td>1.935212e+10</td>\n",
       "      <td>1.581769e+10</td>\n",
       "      <td>3.534438e+09</td>\n",
       "      <td>NaN</td>\n",
       "      <td>NaN</td>\n",
       "    </tr>\n",
       "    <tr>\n",
       "      <th>4</th>\n",
       "      <td>3</td>\n",
       "      <td>000002</td>\n",
       "      <td>XSHE</td>\n",
       "      <td>2016/3/14</td>\n",
       "      <td>2015/12/31</td>\n",
       "      <td>2014/12/31</td>\n",
       "      <td>A</td>\n",
       "      <td>12</td>\n",
       "      <td>1</td>\n",
       "      <td>1.460000e+11</td>\n",
       "      <td>...</td>\n",
       "      <td>1.4300</td>\n",
       "      <td>1.4300</td>\n",
       "      <td>6.460081e+07</td>\n",
       "      <td>NaN</td>\n",
       "      <td>NaN</td>\n",
       "      <td>1.935212e+10</td>\n",
       "      <td>1.581769e+10</td>\n",
       "      <td>3.534438e+09</td>\n",
       "      <td>NaN</td>\n",
       "      <td>NaN</td>\n",
       "    </tr>\n",
       "    <tr>\n",
       "      <th>5</th>\n",
       "      <td>3</td>\n",
       "      <td>000002</td>\n",
       "      <td>XSHE</td>\n",
       "      <td>2015/4/27</td>\n",
       "      <td>2015/3/31</td>\n",
       "      <td>2015/3/31</td>\n",
       "      <td>Q1</td>\n",
       "      <td>3</td>\n",
       "      <td>1</td>\n",
       "      <td>8.894338e+09</td>\n",
       "      <td>...</td>\n",
       "      <td>0.0590</td>\n",
       "      <td>0.0590</td>\n",
       "      <td>-7.253011e+06</td>\n",
       "      <td>NaN</td>\n",
       "      <td>NaN</td>\n",
       "      <td>9.007732e+08</td>\n",
       "      <td>6.429794e+08</td>\n",
       "      <td>2.577938e+08</td>\n",
       "      <td>NaN</td>\n",
       "      <td>NaN</td>\n",
       "    </tr>\n",
       "    <tr>\n",
       "      <th>6</th>\n",
       "      <td>3</td>\n",
       "      <td>000002</td>\n",
       "      <td>XSHE</td>\n",
       "      <td>2017/10/27</td>\n",
       "      <td>2027/9/30</td>\n",
       "      <td>2016/9/30</td>\n",
       "      <td>Q3</td>\n",
       "      <td>9</td>\n",
       "      <td>1</td>\n",
       "      <td>1.170000e+11</td>\n",
       "      <td>...</td>\n",
       "      <td>0.7480</td>\n",
       "      <td>0.7480</td>\n",
       "      <td>-1.323910e+08</td>\n",
       "      <td>NaN</td>\n",
       "      <td>NaN</td>\n",
       "      <td>1.115786e+10</td>\n",
       "      <td>8.116765e+09</td>\n",
       "      <td>3.041097e+09</td>\n",
       "      <td>NaN</td>\n",
       "      <td>NaN</td>\n",
       "    </tr>\n",
       "    <tr>\n",
       "      <th>7</th>\n",
       "      <td>5</td>\n",
       "      <td>000004</td>\n",
       "      <td>XSHE</td>\n",
       "      <td>2010/4/17</td>\n",
       "      <td>2009/12/31</td>\n",
       "      <td>2008/12/31</td>\n",
       "      <td>A</td>\n",
       "      <td>12</td>\n",
       "      <td>1</td>\n",
       "      <td>4.331482e+07</td>\n",
       "      <td>...</td>\n",
       "      <td>-0.1324</td>\n",
       "      <td>-0.1324</td>\n",
       "      <td>NaN</td>\n",
       "      <td>NaN</td>\n",
       "      <td>NaN</td>\n",
       "      <td>-1.148419e+07</td>\n",
       "      <td>-1.112244e+07</td>\n",
       "      <td>-3.617509e+05</td>\n",
       "      <td>NaN</td>\n",
       "      <td>NaN</td>\n",
       "    </tr>\n",
       "    <tr>\n",
       "      <th>8</th>\n",
       "      <td>5</td>\n",
       "      <td>000004</td>\n",
       "      <td>XSHE</td>\n",
       "      <td>2011/12/3</td>\n",
       "      <td>2009/12/31</td>\n",
       "      <td>2008/12/31</td>\n",
       "      <td>A</td>\n",
       "      <td>12</td>\n",
       "      <td>1</td>\n",
       "      <td>4.331482e+07</td>\n",
       "      <td>...</td>\n",
       "      <td>-0.1324</td>\n",
       "      <td>-0.1324</td>\n",
       "      <td>NaN</td>\n",
       "      <td>NaN</td>\n",
       "      <td>NaN</td>\n",
       "      <td>-1.148419e+07</td>\n",
       "      <td>-1.112244e+07</td>\n",
       "      <td>-3.617509e+05</td>\n",
       "      <td>NaN</td>\n",
       "      <td>NaN</td>\n",
       "    </tr>\n",
       "    <tr>\n",
       "      <th>9</th>\n",
       "      <td>5</td>\n",
       "      <td>000004</td>\n",
       "      <td>XSHE</td>\n",
       "      <td>2009/8/15</td>\n",
       "      <td>2039/6/30</td>\n",
       "      <td>2009/6/30</td>\n",
       "      <td>S1</td>\n",
       "      <td>6</td>\n",
       "      <td>1</td>\n",
       "      <td>2.817939e+07</td>\n",
       "      <td>...</td>\n",
       "      <td>-0.0117</td>\n",
       "      <td>-0.0117</td>\n",
       "      <td>NaN</td>\n",
       "      <td>NaN</td>\n",
       "      <td>NaN</td>\n",
       "      <td>NaN</td>\n",
       "      <td>NaN</td>\n",
       "      <td>NaN</td>\n",
       "      <td>NaN</td>\n",
       "      <td>NaN</td>\n",
       "    </tr>\n",
       "  </tbody>\n",
       "</table>\n",
       "<p>10 rows × 68 columns</p>\n",
       "</div>"
      ],
      "text/plain": [
       "   PARTY_ID TICKER_SYMBOL EXCHANGE_CD PUBLISH_DATE END_DATE_REP    END_DATE  \\\n",
       "0         3        000002        XSHE    2009/4/27    2009/3/31   2009/3/31   \n",
       "1         3        000002        XSHE   2012/10/24    2012/9/30   2011/9/30   \n",
       "2         3        000002        XSHE    2014/8/18    2014/6/30   2013/6/30   \n",
       "3         3        000002        XSHE    2015/3/31   2014/12/31  2014/12/31   \n",
       "4         3        000002        XSHE    2016/3/14   2015/12/31  2014/12/31   \n",
       "5         3        000002        XSHE    2015/4/27    2015/3/31   2015/3/31   \n",
       "6         3        000002        XSHE   2017/10/27    2027/9/30   2016/9/30   \n",
       "7         5        000004        XSHE    2010/4/17   2009/12/31  2008/12/31   \n",
       "8         5        000004        XSHE    2011/12/3   2009/12/31  2008/12/31   \n",
       "9         5        000004        XSHE    2009/8/15    2039/6/30   2009/6/30   \n",
       "\n",
       "  REPORT_TYPE  FISCAL_PERIOD  MERGED_FLAG     T_REVENUE  ...  BASIC_EPS  \\\n",
       "0          Q1              3            1  8.164319e+09  ...     0.0700   \n",
       "1          Q3              9            1  2.930837e+10  ...     0.3300   \n",
       "2          S1              6            1  4.139035e+10  ...     0.4100   \n",
       "3           A             12            1  1.460000e+11  ...     1.4300   \n",
       "4           A             12            1  1.460000e+11  ...     1.4300   \n",
       "5          Q1              3            1  8.894338e+09  ...     0.0590   \n",
       "6          Q3              9            1  1.170000e+11  ...     0.7480   \n",
       "7           A             12            1  4.331482e+07  ...    -0.1324   \n",
       "8           A             12            1  4.331482e+07  ...    -0.1324   \n",
       "9          S1              6            1  2.817939e+07  ...    -0.0117   \n",
       "\n",
       "   DILUTED_EPS  OTH_COMPR_INCOME  OTH_EFFECT_CI  AE_EFFECT_CI  T_COMPR_INCOME  \\\n",
       "0       0.0700               NaN            NaN           NaN             NaN   \n",
       "1       0.3300      1.342794e+08            NaN           NaN    4.240628e+09   \n",
       "2       0.4100      2.611946e+07            NaN           NaN    5.362011e+09   \n",
       "3       1.4300      6.460081e+07            NaN           NaN    1.935212e+10   \n",
       "4       1.4300      6.460081e+07            NaN           NaN    1.935212e+10   \n",
       "5       0.0590     -7.253011e+06            NaN           NaN    9.007732e+08   \n",
       "6       0.7480     -1.323910e+08            NaN           NaN    1.115786e+10   \n",
       "7      -0.1324               NaN            NaN           NaN   -1.148419e+07   \n",
       "8      -0.1324               NaN            NaN           NaN   -1.148419e+07   \n",
       "9      -0.0117               NaN            NaN           NaN             NaN   \n",
       "\n",
       "   COMPR_INC_ATTR_P  COMPR_INC_ATTR_M_S  OTH_EFFECT_PCI  AE_EFFECT_PCI  \n",
       "0               NaN                 NaN             NaN            NaN  \n",
       "1      3.718190e+09        5.224388e+08             NaN            NaN  \n",
       "2      4.582424e+09        7.795864e+08             NaN            NaN  \n",
       "3      1.581769e+10        3.534438e+09             NaN            NaN  \n",
       "4      1.581769e+10        3.534438e+09             NaN            NaN  \n",
       "5      6.429794e+08        2.577938e+08             NaN            NaN  \n",
       "6      8.116765e+09        3.041097e+09             NaN            NaN  \n",
       "7     -1.112244e+07       -3.617509e+05             NaN            NaN  \n",
       "8     -1.112244e+07       -3.617509e+05             NaN            NaN  \n",
       "9               NaN                 NaN             NaN            NaN  \n",
       "\n",
       "[10 rows x 68 columns]"
      ]
     },
     "execution_count": 3,
     "metadata": {},
     "output_type": "execute_result"
    }
   ],
   "source": [
    "#准备按str格式读取特定列TICKER_SYMBOL（股票代码）\n",
    "    #定义字典类型变量\n",
    "mydtype={'TICKER_SYMBOL':str}  #按规定格式读取某列\n",
    "\n",
    "#读入数据\n",
    "df = pd.read_csv(\"Data/GeneralBusinessIncome.csv\",dtype = mydtype)\n",
    "\n",
    "#查看前10行\n",
    "df.head(10)"
   ]
  },
  {
   "cell_type": "markdown",
   "metadata": {
    "uuid": "be37e0f6-69f2-4a26-a003-5e12e8ffa3ba"
   },
   "source": [
    "## 1.3.查看描述性统计信息"
   ]
  },
  {
   "cell_type": "code",
   "execution_count": 4,
   "metadata": {
    "uuid": "bfdbf639-3299-4e97-84af-ccc9ac1d5440"
   },
   "outputs": [
    {
     "data": {
      "text/html": [
       "<div>\n",
       "<style scoped>\n",
       "    .dataframe tbody tr th:only-of-type {\n",
       "        vertical-align: middle;\n",
       "    }\n",
       "\n",
       "    .dataframe tbody tr th {\n",
       "        vertical-align: top;\n",
       "    }\n",
       "\n",
       "    .dataframe thead th {\n",
       "        text-align: right;\n",
       "    }\n",
       "</style>\n",
       "<table border=\"1\" class=\"dataframe\">\n",
       "  <thead>\n",
       "    <tr style=\"text-align: right;\">\n",
       "      <th></th>\n",
       "      <th>PARTY_ID</th>\n",
       "      <th>FISCAL_PERIOD</th>\n",
       "      <th>MERGED_FLAG</th>\n",
       "      <th>T_REVENUE</th>\n",
       "      <th>REVENUE</th>\n",
       "      <th>INT_INCOME</th>\n",
       "      <th>PREM_EARNED</th>\n",
       "      <th>COMMIS_INCOME</th>\n",
       "      <th>SPEC_TOR</th>\n",
       "      <th>ATOR</th>\n",
       "      <th>...</th>\n",
       "      <th>BASIC_EPS</th>\n",
       "      <th>DILUTED_EPS</th>\n",
       "      <th>OTH_COMPR_INCOME</th>\n",
       "      <th>OTH_EFFECT_CI</th>\n",
       "      <th>AE_EFFECT_CI</th>\n",
       "      <th>T_COMPR_INCOME</th>\n",
       "      <th>COMPR_INC_ATTR_P</th>\n",
       "      <th>COMPR_INC_ATTR_M_S</th>\n",
       "      <th>OTH_EFFECT_PCI</th>\n",
       "      <th>AE_EFFECT_PCI</th>\n",
       "    </tr>\n",
       "  </thead>\n",
       "  <tbody>\n",
       "    <tr>\n",
       "      <th>count</th>\n",
       "      <td>2.083060e+05</td>\n",
       "      <td>208306.000000</td>\n",
       "      <td>208306.0</td>\n",
       "      <td>2.082760e+05</td>\n",
       "      <td>2.082920e+05</td>\n",
       "      <td>3.920000e+03</td>\n",
       "      <td>3.067000e+03</td>\n",
       "      <td>2.592000e+03</td>\n",
       "      <td>2.900000e+02</td>\n",
       "      <td>3.940000e+02</td>\n",
       "      <td>...</td>\n",
       "      <td>205857.000000</td>\n",
       "      <td>199371.000000</td>\n",
       "      <td>8.366700e+04</td>\n",
       "      <td>2.180000e+02</td>\n",
       "      <td>9.290000e+02</td>\n",
       "      <td>1.960440e+05</td>\n",
       "      <td>1.958490e+05</td>\n",
       "      <td>1.494770e+05</td>\n",
       "      <td>2.440000e+02</td>\n",
       "      <td>7.340000e+02</td>\n",
       "    </tr>\n",
       "    <tr>\n",
       "      <th>mean</th>\n",
       "      <td>5.278100e+04</td>\n",
       "      <td>7.720680</td>\n",
       "      <td>1.0</td>\n",
       "      <td>4.711695e+09</td>\n",
       "      <td>4.703335e+09</td>\n",
       "      <td>1.965393e+08</td>\n",
       "      <td>8.859690e+07</td>\n",
       "      <td>2.216378e+08</td>\n",
       "      <td>1.271596e+08</td>\n",
       "      <td>9.033657e+06</td>\n",
       "      <td>...</td>\n",
       "      <td>0.238963</td>\n",
       "      <td>0.235819</td>\n",
       "      <td>-1.613467e+06</td>\n",
       "      <td>-1.168026e+06</td>\n",
       "      <td>-2.288952e+06</td>\n",
       "      <td>2.635528e+08</td>\n",
       "      <td>2.341820e+08</td>\n",
       "      <td>3.848871e+07</td>\n",
       "      <td>2.957094e+07</td>\n",
       "      <td>8.046370e+06</td>\n",
       "    </tr>\n",
       "    <tr>\n",
       "      <th>std</th>\n",
       "      <td>5.039279e+05</td>\n",
       "      <td>3.469145</td>\n",
       "      <td>0.0</td>\n",
       "      <td>4.238955e+10</td>\n",
       "      <td>4.237183e+10</td>\n",
       "      <td>1.126002e+09</td>\n",
       "      <td>1.187500e+09</td>\n",
       "      <td>7.298926e+08</td>\n",
       "      <td>5.458719e+08</td>\n",
       "      <td>8.339485e+07</td>\n",
       "      <td>...</td>\n",
       "      <td>0.434032</td>\n",
       "      <td>0.427521</td>\n",
       "      <td>2.995326e+08</td>\n",
       "      <td>1.768439e+07</td>\n",
       "      <td>4.488878e+07</td>\n",
       "      <td>2.098220e+09</td>\n",
       "      <td>1.863942e+09</td>\n",
       "      <td>3.840470e+08</td>\n",
       "      <td>9.872134e+07</td>\n",
       "      <td>9.813054e+07</td>\n",
       "    </tr>\n",
       "    <tr>\n",
       "      <th>min</th>\n",
       "      <td>3.000000e+00</td>\n",
       "      <td>3.000000</td>\n",
       "      <td>1.0</td>\n",
       "      <td>-4.451524e+07</td>\n",
       "      <td>-4.451524e+07</td>\n",
       "      <td>-3.695805e+06</td>\n",
       "      <td>-4.289316e+06</td>\n",
       "      <td>-1.426680e+06</td>\n",
       "      <td>-1.249959e+08</td>\n",
       "      <td>-3.058748e+08</td>\n",
       "      <td>...</td>\n",
       "      <td>-21.857000</td>\n",
       "      <td>-21.857000</td>\n",
       "      <td>-2.023900e+10</td>\n",
       "      <td>-2.610000e+08</td>\n",
       "      <td>-6.030421e+08</td>\n",
       "      <td>-1.830261e+10</td>\n",
       "      <td>-1.615278e+10</td>\n",
       "      <td>-4.342121e+09</td>\n",
       "      <td>-6.421470e+04</td>\n",
       "      <td>-3.717582e+08</td>\n",
       "    </tr>\n",
       "    <tr>\n",
       "      <th>25%</th>\n",
       "      <td>8.110000e+02</td>\n",
       "      <td>6.000000</td>\n",
       "      <td>1.0</td>\n",
       "      <td>2.659696e+08</td>\n",
       "      <td>2.648917e+08</td>\n",
       "      <td>3.460088e+06</td>\n",
       "      <td>0.000000e+00</td>\n",
       "      <td>1.209186e+05</td>\n",
       "      <td>0.000000e+00</td>\n",
       "      <td>0.000000e+00</td>\n",
       "      <td>...</td>\n",
       "      <td>0.034100</td>\n",
       "      <td>0.032600</td>\n",
       "      <td>-2.292214e+06</td>\n",
       "      <td>0.000000e+00</td>\n",
       "      <td>-1.000000e+02</td>\n",
       "      <td>1.260156e+07</td>\n",
       "      <td>1.207179e+07</td>\n",
       "      <td>-5.643000e+05</td>\n",
       "      <td>0.000000e+00</td>\n",
       "      <td>-1.000000e-02</td>\n",
       "    </tr>\n",
       "    <tr>\n",
       "      <th>50%</th>\n",
       "      <td>2.046000e+03</td>\n",
       "      <td>9.000000</td>\n",
       "      <td>1.0</td>\n",
       "      <td>7.115241e+08</td>\n",
       "      <td>7.088636e+08</td>\n",
       "      <td>1.843963e+07</td>\n",
       "      <td>0.000000e+00</td>\n",
       "      <td>2.365199e+06</td>\n",
       "      <td>0.000000e+00</td>\n",
       "      <td>0.000000e+00</td>\n",
       "      <td>...</td>\n",
       "      <td>0.140000</td>\n",
       "      <td>0.136800</td>\n",
       "      <td>-3.894880e+03</td>\n",
       "      <td>0.000000e+00</td>\n",
       "      <td>0.000000e+00</td>\n",
       "      <td>4.932245e+07</td>\n",
       "      <td>4.701986e+07</td>\n",
       "      <td>4.780997e+05</td>\n",
       "      <td>0.000000e+00</td>\n",
       "      <td>0.000000e+00</td>\n",
       "    </tr>\n",
       "    <tr>\n",
       "      <th>75%</th>\n",
       "      <td>3.823100e+04</td>\n",
       "      <td>12.000000</td>\n",
       "      <td>1.0</td>\n",
       "      <td>2.080031e+09</td>\n",
       "      <td>2.071813e+09</td>\n",
       "      <td>8.216946e+07</td>\n",
       "      <td>0.000000e+00</td>\n",
       "      <td>5.023606e+07</td>\n",
       "      <td>0.000000e+00</td>\n",
       "      <td>4.054323e+05</td>\n",
       "      <td>...</td>\n",
       "      <td>0.350000</td>\n",
       "      <td>0.344800</td>\n",
       "      <td>1.384593e+06</td>\n",
       "      <td>0.000000e+00</td>\n",
       "      <td>1.000000e+02</td>\n",
       "      <td>1.469795e+08</td>\n",
       "      <td>1.387557e+08</td>\n",
       "      <td>7.877914e+06</td>\n",
       "      <td>0.000000e+00</td>\n",
       "      <td>1.000000e+02</td>\n",
       "    </tr>\n",
       "    <tr>\n",
       "      <th>max</th>\n",
       "      <td>1.000700e+07</td>\n",
       "      <td>12.000000</td>\n",
       "      <td>1.0</td>\n",
       "      <td>2.880000e+12</td>\n",
       "      <td>2.880000e+12</td>\n",
       "      <td>2.669900e+10</td>\n",
       "      <td>3.425631e+10</td>\n",
       "      <td>1.053889e+10</td>\n",
       "      <td>3.679698e+09</td>\n",
       "      <td>1.479845e+09</td>\n",
       "      <td>...</td>\n",
       "      <td>21.560000</td>\n",
       "      <td>21.560000</td>\n",
       "      <td>1.388168e+10</td>\n",
       "      <td>6.365475e+06</td>\n",
       "      <td>4.079899e+08</td>\n",
       "      <td>1.530000e+11</td>\n",
       "      <td>1.430000e+11</td>\n",
       "      <td>2.314600e+10</td>\n",
       "      <td>5.013000e+08</td>\n",
       "      <td>1.628118e+09</td>\n",
       "    </tr>\n",
       "  </tbody>\n",
       "</table>\n",
       "<p>8 rows × 62 columns</p>\n",
       "</div>"
      ],
      "text/plain": [
       "           PARTY_ID  FISCAL_PERIOD  MERGED_FLAG     T_REVENUE       REVENUE  \\\n",
       "count  2.083060e+05  208306.000000     208306.0  2.082760e+05  2.082920e+05   \n",
       "mean   5.278100e+04       7.720680          1.0  4.711695e+09  4.703335e+09   \n",
       "std    5.039279e+05       3.469145          0.0  4.238955e+10  4.237183e+10   \n",
       "min    3.000000e+00       3.000000          1.0 -4.451524e+07 -4.451524e+07   \n",
       "25%    8.110000e+02       6.000000          1.0  2.659696e+08  2.648917e+08   \n",
       "50%    2.046000e+03       9.000000          1.0  7.115241e+08  7.088636e+08   \n",
       "75%    3.823100e+04      12.000000          1.0  2.080031e+09  2.071813e+09   \n",
       "max    1.000700e+07      12.000000          1.0  2.880000e+12  2.880000e+12   \n",
       "\n",
       "         INT_INCOME   PREM_EARNED  COMMIS_INCOME      SPEC_TOR          ATOR  \\\n",
       "count  3.920000e+03  3.067000e+03   2.592000e+03  2.900000e+02  3.940000e+02   \n",
       "mean   1.965393e+08  8.859690e+07   2.216378e+08  1.271596e+08  9.033657e+06   \n",
       "std    1.126002e+09  1.187500e+09   7.298926e+08  5.458719e+08  8.339485e+07   \n",
       "min   -3.695805e+06 -4.289316e+06  -1.426680e+06 -1.249959e+08 -3.058748e+08   \n",
       "25%    3.460088e+06  0.000000e+00   1.209186e+05  0.000000e+00  0.000000e+00   \n",
       "50%    1.843963e+07  0.000000e+00   2.365199e+06  0.000000e+00  0.000000e+00   \n",
       "75%    8.216946e+07  0.000000e+00   5.023606e+07  0.000000e+00  4.054323e+05   \n",
       "max    2.669900e+10  3.425631e+10   1.053889e+10  3.679698e+09  1.479845e+09   \n",
       "\n",
       "       ...      BASIC_EPS    DILUTED_EPS  OTH_COMPR_INCOME  OTH_EFFECT_CI  \\\n",
       "count  ...  205857.000000  199371.000000      8.366700e+04   2.180000e+02   \n",
       "mean   ...       0.238963       0.235819     -1.613467e+06  -1.168026e+06   \n",
       "std    ...       0.434032       0.427521      2.995326e+08   1.768439e+07   \n",
       "min    ...     -21.857000     -21.857000     -2.023900e+10  -2.610000e+08   \n",
       "25%    ...       0.034100       0.032600     -2.292214e+06   0.000000e+00   \n",
       "50%    ...       0.140000       0.136800     -3.894880e+03   0.000000e+00   \n",
       "75%    ...       0.350000       0.344800      1.384593e+06   0.000000e+00   \n",
       "max    ...      21.560000      21.560000      1.388168e+10   6.365475e+06   \n",
       "\n",
       "       AE_EFFECT_CI  T_COMPR_INCOME  COMPR_INC_ATTR_P  COMPR_INC_ATTR_M_S  \\\n",
       "count  9.290000e+02    1.960440e+05      1.958490e+05        1.494770e+05   \n",
       "mean  -2.288952e+06    2.635528e+08      2.341820e+08        3.848871e+07   \n",
       "std    4.488878e+07    2.098220e+09      1.863942e+09        3.840470e+08   \n",
       "min   -6.030421e+08   -1.830261e+10     -1.615278e+10       -4.342121e+09   \n",
       "25%   -1.000000e+02    1.260156e+07      1.207179e+07       -5.643000e+05   \n",
       "50%    0.000000e+00    4.932245e+07      4.701986e+07        4.780997e+05   \n",
       "75%    1.000000e+02    1.469795e+08      1.387557e+08        7.877914e+06   \n",
       "max    4.079899e+08    1.530000e+11      1.430000e+11        2.314600e+10   \n",
       "\n",
       "       OTH_EFFECT_PCI  AE_EFFECT_PCI  \n",
       "count    2.440000e+02   7.340000e+02  \n",
       "mean     2.957094e+07   8.046370e+06  \n",
       "std      9.872134e+07   9.813054e+07  \n",
       "min     -6.421470e+04  -3.717582e+08  \n",
       "25%      0.000000e+00  -1.000000e-02  \n",
       "50%      0.000000e+00   0.000000e+00  \n",
       "75%      0.000000e+00   1.000000e+02  \n",
       "max      5.013000e+08   1.628118e+09  \n",
       "\n",
       "[8 rows x 62 columns]"
      ]
     },
     "execution_count": 4,
     "metadata": {},
     "output_type": "execute_result"
    }
   ],
   "source": [
    "#查看描述性统计信息\n",
    "df.describe()"
   ]
  },
  {
   "cell_type": "markdown",
   "metadata": {
    "uuid": "ad268f48-92c4-4f4c-b5b0-07f6c94c961e"
   },
   "source": [
    "## 1.4.创建画布及多子图"
   ]
  },
  {
   "cell_type": "code",
   "execution_count": 5,
   "metadata": {
    "uuid": "a6a33bef-2416-425d-97dc-3af8ffeac834"
   },
   "outputs": [
    {
     "data": {
      "image/png": "[encoded data removed]",
      "text/plain": [
       "<Figure size 600x600 with 4 Axes>"
      ]
     },
     "metadata": {},
     "output_type": "display_data"
    },
    {
     "data": {
      "image/png": "[encoded data removed]",
      "text/plain": [
       "<Figure size 432x288 with 4 Axes>"
      ]
     },
     "metadata": {
      "needs_background": "light"
     },
     "output_type": "display_data"
    }
   ],
   "source": [
    "#创建画布及多子图\n",
    "\n",
    "#创建画布\n",
    "fig = plt.figure(figsize=(6,6),dpi=100,facecolor='#dfd7d7')\n",
    "\n",
    "ax1 =fig.add_subplot(2,2,1) #创建2*2的图像并选中4个subplot中的第一个\n",
    "ax2 =fig.add_subplot(2,2,2)\n",
    "ax3 =fig.add_subplot(2,2,3)\n",
    "ax4 =fig.add_subplot(2,2,4)\n",
    "\n",
    "# plt.subplots： 用一行代码创建网格\n",
    "fig,axes = plt.subplots(2,2,sharex=True,sharey=True)\n"
   ]
  },
  {
   "cell_type": "markdown",
   "metadata": {
    "uuid": "ccae49de-d235-4ee8-904d-e64afa9f5ded"
   },
   "source": [
    "## 1.5.全局字体设置"
   ]
  },
  {
   "cell_type": "code",
   "execution_count": 6,
   "metadata": {
    "uuid": "7485e7c1-0703-4c29-947a-e55e6f679857"
   },
   "outputs": [],
   "source": [
    "#全局字体设置\n",
    "\n",
    "#设置全局字体为 'KaiTi'，字体大小为13，字符显示为False\n",
    "plt.rcParams['font.sans-serif'] = ['KaiTi']  #设置字体\n",
    "plt.rcParams['axes.unicode_minus'] = False #字符显示\n",
    "plt.rcParams['font.size'] = 13"
   ]
  },
  {
   "cell_type": "markdown",
   "metadata": {
    "uuid": "3e554a3e-501c-4c76-9966-28f300899e10"
   },
   "source": [
    "## 1.6.设置图例、标题和坐标轴"
   ]
  },
  {
   "cell_type": "code",
   "execution_count": 7,
   "metadata": {
    "uuid": "dc4c0ea1-676d-47db-86c8-39f0ee2fdb11"
   },
   "outputs": [
    {
     "data": {
      "text/plain": [
       "Text(0, 0.5, 'Y轴')"
      ]
     },
     "execution_count": 7,
     "metadata": {},
     "output_type": "execute_result"
    },
    {
     "data": {
      "image/png": "[encoded data removed]",
      "text/plain": [
       "<Figure size 432x288 with 1 Axes>"
      ]
     },
     "metadata": {
      "needs_background": "light"
     },
     "output_type": "display_data"
    }
   ],
   "source": [
    "#绘图查看效果\n",
    "x = np.linspace(0,10,100)\n",
    "y = 2*x\n",
    "plt.plot(x,y)\n",
    "\n",
    "plt.title('函数：y = 2x')  #标题\n",
    "plt.xlabel('X轴')  #设置x轴名称\n",
    "plt.ylabel('Y轴')  #设置y轴名称"
   ]
  },
  {
   "cell_type": "markdown",
   "metadata": {
    "uuid": "62af8dbf-f75e-47ab-83ce-4b61a79b1595"
   },
   "source": [
    "## 1.7.调整subplot周围的间距"
   ]
  },
  {
   "cell_type": "code",
   "execution_count": 8,
   "metadata": {
    "uuid": "1039506e-85f7-4aa1-a426-fd8e367f42a1"
   },
   "outputs": [
    {
     "data": {
      "text/plain": [
       "Text(0, 0.5, 'Y轴')"
      ]
     },
     "execution_count": 8,
     "metadata": {},
     "output_type": "execute_result"
    },
    {
     "data": {
      "image/png": "[encoded data removed]",
      "text/plain": [
       "<Figure size 300x300 with 1 Axes>"
      ]
     },
     "metadata": {},
     "output_type": "display_data"
    }
   ],
   "source": [
    "#通过subplots_adjust()方法调整图像周围间距\n",
    "#绘图\n",
    "fig=plt.figure(figsize=(3,3),dpi=100,facecolor='#dfd7d7')\n",
    "ax1 =fig.add_subplot(1,1,1)\n",
    "x = np.linspace(-3.5,3.5,100)\n",
    "y = np.sin(x)\n",
    "plt.plot(x,y,color='y',alpha = 0.5,linestyle = '--',label = 'sin(x)',lw = 2)\n",
    "\n",
    "#设置参数\n",
    "plt.legend()   #图例\n",
    "plt.title('正弦图')  #标题\n",
    "plt.xlabel('X轴')  #设置x轴名称\n",
    "plt.ylabel('Y轴')  #设置y轴名称\n"
   ]
  },
  {
   "cell_type": "code",
   "execution_count": 9,
   "metadata": {
    "uuid": "bcf620cb-9eb9-4002-8b44-76e2f3bf5059"
   },
   "outputs": [
    {
     "data": {
      "image/png": "[encoded data removed]",
      "text/plain": [
       "<Figure size 432x288 with 4 Axes>"
      ]
     },
     "metadata": {
      "needs_background": "light"
     },
     "output_type": "display_data"
    }
   ],
   "source": [
    "#调整subplot周围的间距\n",
    "\n",
    "#生成一个2*2的画布，并指定所有的subplot使用相同的x，y轴刻度\n",
    "fig , axes = plt.subplots(2,2,sharex=True,sharey=True)\n",
    "\n",
    "#填充图像\n",
    "for i in range(2):\n",
    "    for j in range(2):\n",
    "        axes[i,j].hist(np.random.randn(500),bins=50,color='k',alpha=0.5)\n",
    "        \n",
    "#将间距调整为0\n",
    "fig.subplots_adjust(wspace=0,hspace=0)"
   ]
  },
  {
   "cell_type": "markdown",
   "metadata": {
    "uuid": "2f0889db-c223-4f60-af9c-ab1ba07aefc1"
   },
   "source": [
    "## 1.8.绘制散点图"
   ]
  },
  {
   "cell_type": "code",
   "execution_count": 10,
   "metadata": {
    "uuid": "2e5568e0-5fa6-4f59-aa09-44f96d3dc78e"
   },
   "outputs": [
    {
     "data": {
      "text/plain": [
       "[<matplotlib.lines.Line2D at 0x13643415b08>]"
      ]
     },
     "execution_count": 10,
     "metadata": {},
     "output_type": "execute_result"
    },
    {
     "data": {
      "image/png": "[encoded data removed]",
      "text/plain": [
       "<Figure size 432x288 with 1 Axes>"
      ]
     },
     "metadata": {
      "needs_background": "light"
     },
     "output_type": "display_data"
    }
   ],
   "source": [
    "#绘制营业成本'COGS'和营业收入'REVENUE'之间的散点图\n",
    "plt.plot(df['COGS'],df['REVENUE'],'bo',ms=4)"
   ]
  },
  {
   "cell_type": "markdown",
   "metadata": {
    "uuid": "c7877b52-5b04-42f9-baa3-437e78ffdf50"
   },
   "source": [
    "## 1.9.绘制柱状图"
   ]
  },
  {
   "cell_type": "code",
   "execution_count": 11,
   "metadata": {
    "uuid": "38fa47ea-7966-42bf-a865-346a7af7e042"
   },
   "outputs": [
    {
     "data": {
      "image/png": "[encoded data removed]",
      "text/plain": [
       "<Figure size 432x288 with 1 Axes>"
      ]
     },
     "metadata": {
      "needs_background": "light"
     },
     "output_type": "display_data"
    }
   ],
   "source": [
    "#——绘制股票代码为000002公司历年营业收入‘REVENUE’的柱状图\n",
    "\n",
    "#提取'END_DATE_REP'列的年份，并在data表中新建一列'Year'\n",
    "df['Year'] = pd.DatetimeIndex(df['END_DATE_REP']).year\n",
    "\n",
    "#提取000002公司历年的营业收入\n",
    "list_YearRevenue = {}\n",
    "for i in range(len(df['TICKER_SYMBOL'])):\n",
    "    if df['TICKER_SYMBOL'][i] == '000002' and df['REPORT_TYPE'][i] == 'A':\n",
    "        list_YearRevenue[df['Year'][i]] = df['REVENUE'][i]\n",
    "\n",
    "#绘图\n",
    "plt.bar(list_YearRevenue.keys(), \\\n",
    "        list_YearRevenue.values(),\\\n",
    "        color = 'orange', width=0.5)\n",
    "plt.show()"
   ]
  },
  {
   "cell_type": "markdown",
   "metadata": {
    "uuid": "6c8ae628-e2ab-42a0-a414-a7134e124ad2"
   },
   "source": [
    "## 1.10.绘制折线图"
   ]
  },
  {
   "cell_type": "code",
   "execution_count": 12,
   "metadata": {
    "uuid": "baa020a3-1167-40a9-8a26-a5821e274641"
   },
   "outputs": [
    {
     "data": {
      "image/png": "[encoded data removed]",
      "text/plain": [
       "<Figure size 432x288 with 1 Axes>"
      ]
     },
     "metadata": {
      "needs_background": "light"
     },
     "output_type": "display_data"
    }
   ],
   "source": [
    "#绘制股票代码为000002公司历年营业收入‘REVENUE’的折线图\n",
    "\n",
    "#提取'END_DATE_REP'列的年份，并在data表中新建一列'Year'\n",
    "df['Year'] = pd.DatetimeIndex(df['END_DATE_REP']).year\n",
    "\n",
    "# 提取公司历年的营业收入\n",
    "dict_YearRevenue = {}\n",
    "for i in range(len(df['TICKER_SYMBOL'])):\n",
    "    if df['TICKER_SYMBOL'][i] == '000002' and \\\n",
    "    df['REPORT_TYPE'][i] == 'A':\n",
    "        dict_YearRevenue[df['Year'][i]] = df['REVENUE'][i]\n",
    "\n",
    "#将字典dict_YearRevenue按照键（年份）排序\n",
    "d_order=dict(sorted(dict_YearRevenue.items(),\\\n",
    "                    key=lambda x:x[0],reverse=False))\n",
    "\n",
    "#绘图\n",
    "plt.plot(list(d_order.keys()),list(d_order.values()),\\\n",
    "         color='red',linewidth=2.0,linestyle='--')\n",
    "plt.show()"
   ]
  },
  {
   "cell_type": "markdown",
   "metadata": {
    "uuid": "cd5ca6f8-1bde-4fe2-9aa8-5f7bca34d83f"
   },
   "source": [
    "## 1.11.绘制箱线图"
   ]
  },
  {
   "cell_type": "code",
   "execution_count": 13,
   "metadata": {
    "scrolled": true,
    "uuid": "79f64595-782c-4e4c-a7f8-c3f7d79919ee"
   },
   "outputs": [
    {
     "data": {
      "image/png": "[encoded data removed]",
      "text/plain": [
       "<Figure size 432x288 with 1 Axes>"
      ]
     },
     "metadata": {
      "needs_background": "light"
     },
     "output_type": "display_data"
    }
   ],
   "source": [
    "#绘制‘00004’和‘000007’两家公司历年营业收入的箱线图\n",
    "\n",
    "#提取'END_DATE_REP'列的年份，并在data表中新建一列'Year'\n",
    "df['Year'] = pd.DatetimeIndex(df['END_DATE_REP']).year\n",
    "\n",
    "#提取公司历年的营业收入\n",
    "list4_YearRevenue,list7_YearRevenue= [],[]\n",
    "for i in range(len(df['TICKER_SYMBOL'])):\n",
    "    if df['REPORT_TYPE'][i] == 'A':\n",
    "        if df['TICKER_SYMBOL'][i] == '000004':\n",
    "            list4_YearRevenue.append(df['REVENUE'][i]) \n",
    "        elif df['TICKER_SYMBOL'][i] == '000007':\n",
    "            list7_YearRevenue.append(df['REVENUE'][i])\n",
    "\n",
    "#绘图\n",
    "plt.boxplot((list4_YearRevenue,list7_YearRevenue),\\\n",
    "            labels = ('000004','000007'))\n",
    "plt.show()  "
   ]
  },
  {
   "cell_type": "markdown",
   "metadata": {
    "uuid": "2fdbb3e4-e03e-40d9-b13a-01658a0898c4"
   },
   "source": [
    "## 1.12.图像的保存"
   ]
  },
  {
   "cell_type": "code",
   "execution_count": 14,
   "metadata": {
    "uuid": "06990b64-75b9-46e9-bade-3af399a1236b"
   },
   "outputs": [
    {
     "data": {
      "image/png": "[encoded data removed]",
      "text/plain": [
       "<Figure size 300x300 with 1 Axes>"
      ]
     },
     "metadata": {},
     "output_type": "display_data"
    }
   ],
   "source": [
    "#绘图\n",
    "fig=plt.figure(figsize=(3,3),dpi=100,facecolor='#dfd7d7')\n",
    "ax1 =fig.add_subplot(1,1,1)\n",
    "x = np.linspace(-3.5,3.5,100)\n",
    "y = np.sin(x)\n",
    "plt.plot(x,y,c ='y',alpha = 0.5,ls = '--',label = 'sin(x)',lw = 2)\n",
    "\n",
    "#保存\n",
    "plt.savefig('Images/fig1.jpg')"
   ]
  },
  {
   "cell_type": "code",
   "execution_count": null,
   "metadata": {
    "uuid": "98845616-3126-4e5c-b737-c5f4c1cc7222"
   },
   "outputs": [],
   "source": []
  }
 ],
 "metadata": {
  "kernelspec": {
   "display_name": "Python 3 (ipykernel)",
   "language": "python",
   "name": "python3"
  },
  "language_info": {
   "codemirror_mode": {
    "name": "ipython",
    "version": 3
   },
   "file_extension": ".py",
   "mimetype": "text/x-python",
   "name": "python",
   "nbconvert_exporter": "python",
   "pygments_lexer": "ipython3",
   "version": "3.9.13"
  },
  "toc": {
   "base_numbering": 1,
   "nav_menu": {},
   "number_sections": true,
   "sideBar": true,
   "skip_h1_title": false,
   "title_cell": "Table of Contents",
   "title_sidebar": "Contents",
   "toc_cell": false,
   "toc_position": {},
   "toc_section_display": true,
   "toc_window_display": true
  }
 },
 "nbformat": 4,
 "nbformat_minor": 4
}
