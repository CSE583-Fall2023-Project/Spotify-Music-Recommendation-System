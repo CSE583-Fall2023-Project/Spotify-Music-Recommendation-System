{
 "cells": [
  {
   "cell_type": "code",
   "execution_count": 1,
   "metadata": {},
   "outputs": [],
   "source": [
    "#建议改为trainningmodel"
   ]
  },
  {
   "cell_type": "markdown",
   "metadata": {
    "uuid": "f281f3ea-c304-4588-8f8c-ca61dde6dfc6"
   },
   "source": [
    "# 定义集成学习器"
   ]
  },
  {
   "cell_type": "code",
   "execution_count": 2,
   "metadata": {
    "uuid": "c63a5441-0748-4f4c-bbe6-8ec05390f571"
   },
   "outputs": [],
   "source": [
    "from sklearn.base import BaseEstimator, RegressorMixin, clone\n",
    "    #sklearn.base.clone的功能为使用相同的参数构造一个新的不拟合估计量。\n",
    "    \n",
    "class EnsembleLearners(BaseEstimator, RegressorMixin):\n",
    "    def __init__(self, models, weight):\n",
    "        self.models = models\n",
    "        self.weight = weight\n",
    "\n",
    "    def fit(self, X, y): \n",
    "        self.models_ = [clone(x) for x in self.models]\n",
    "        for model in self.models_:\n",
    "            model.fit(X, y)\n",
    "        return self\n",
    "\n",
    "    def predict(self, X): \n",
    "        w = list()\n",
    "        pred = np.array([model.predict(X) for model in self.models_])\n",
    "        \n",
    "        for data in range(pred.shape[1]):\n",
    "            single = [pred[model, data] * weight for model, weight in zip(range(pred.shape[0]), self.weight)]\n",
    "            w.append(np.sum(single))\n",
    "        return w"
   ]
  },
  {
   "cell_type": "markdown",
   "metadata": {
    "uuid": "e727cdcc-fbde-4836-a601-9ca02ce730b7"
   },
   "source": [
    "# 参数设置"
   ]
  },
  {
   "cell_type": "code",
   "execution_count": 3,
   "metadata": {
    "uuid": "aac1478d-1e33-44da-b9c0-359561fc43f6"
   },
   "outputs": [],
   "source": [
    "#原函数头部\n",
    "# def modelTrain(df,LOG_N,gbr_EST,gbr_FEAT,gbr_LRAT,etr_EST,etr_FEAT,\n",
    "    #rf_EST,rf_FEAT,xgb_EST,xgb_SAM,xgb_LRAT,AlgorithmsInEL):\n",
    "   "
   ]
  },
  {
   "cell_type": "code",
   "execution_count": 4,
   "metadata": {
    "uuid": "80b00eb1-9925-404b-b1a3-b0ec84b28636"
   },
   "outputs": [],
   "source": [
    "import pandas as pd\n",
    "df_bank= pd.read_csv (\"Data/df_bank.csv\", index_col=0)\n",
    "df=df_bank\n",
    "LOG_N=10\n",
    "etr_EST = 25\n",
    "etr_FEAT = 0.8\n",
    "gbr_EST = 200\n",
    "gbr_FEAT = 0.8\n",
    "gbr_LRAT = 0.1\n",
    "rf_EST = 25\n",
    "rf_FEAT = 0.8\n",
    "xgb_EST = 300\n",
    "xgb_SAM = 0.8\n",
    "xgb_LRAT =0.1\n",
    "AlgorithmsInEL=2"
   ]
  },
  {
   "cell_type": "code",
   "execution_count": 5,
   "metadata": {},
   "outputs": [
    {
     "data": {
      "text/plain": [
       "Index(['TICKER_SYMBOL', 'END_DATE', 'C_RESER_CB', 'RANK_C_RESER_CB',\n",
       "       'RANK_REVENUE_Q1', 'REVENUE_Q1', 'T_LIAB',\n",
       "       'RANK_T_LIAB_FINAN_LEASE_RECEIV', 'RANK_T_ASSETS_FINAN_LEASE_RECEIV',\n",
       "       'RANK_T_LIAB',\n",
       "       ...\n",
       "       'T_ASSETS_AVAIL_FOR_SALE_FA', 'DIS_PREFERRED_STOCK_E_GROWTH6',\n",
       "       'T_SH_EQUITY_MINORITY_INT_LAG3', 'DATA_VALUE2170002035',\n",
       "       'DISBUR_LA_GROWTH12_LAG1', 'T_SH_EQUITY_LAG4',\n",
       "       'T_SH_EQUITY_DERIV_LIAB_LAG2', 'RANK_SPEC_OR_Q1', 'AE_GROWTH9_LAG2',\n",
       "       'target_REVENUE_Q1'],\n",
       "      dtype='object', length=2619)"
      ]
     },
     "execution_count": 5,
     "metadata": {},
     "output_type": "execute_result"
    }
   ],
   "source": [
    "df_bank.columns"
   ]
  },
  {
   "cell_type": "code",
   "execution_count": 6,
   "metadata": {
    "uuid": "1e08ead3-cfdc-407d-a0f5-3cafa35f74ee"
   },
   "outputs": [],
   "source": [
    "#将 'END_DATE'为日期类型\n",
    "df.END_DATE = df['END_DATE'].astype(\"datetime64[ns]\")"
   ]
  },
  {
   "cell_type": "code",
   "execution_count": 7,
   "metadata": {
    "uuid": "efa2bb28-307a-498c-ad62-26301057a6db"
   },
   "outputs": [],
   "source": [
    "if(AlgorithmsInEL==0):\n",
    "    df = df.loc[df['END_DATE'].dt.month == 3,]"
   ]
  },
  {
   "cell_type": "code",
   "execution_count": 8,
   "metadata": {
    "uuid": "efa2bb28-307a-498c-ad62-26301057a6db"
   },
   "outputs": [],
   "source": [
    "#缺失值处理    \n",
    "import numpy as np\n",
    "df = df.replace([np.inf, -np.inf], np.nan)"
   ]
  },
  {
   "cell_type": "markdown",
   "metadata": {
    "uuid": "4dc4f7e1-419b-4209-b818-4f11a37f3ab5"
   },
   "source": [
    "# 测试集与训练集的划分"
   ]
  },
  {
   "cell_type": "code",
   "execution_count": 9,
   "metadata": {},
   "outputs": [
    {
     "data": {
      "text/plain": [
       "Index(['TICKER_SYMBOL', 'END_DATE', 'C_RESER_CB', 'RANK_C_RESER_CB',\n",
       "       'RANK_REVENUE_Q1', 'REVENUE_Q1', 'T_LIAB',\n",
       "       'RANK_T_LIAB_FINAN_LEASE_RECEIV', 'RANK_T_ASSETS_FINAN_LEASE_RECEIV',\n",
       "       'RANK_T_LIAB',\n",
       "       ...\n",
       "       'T_ASSETS_AVAIL_FOR_SALE_FA', 'DIS_PREFERRED_STOCK_E_GROWTH6',\n",
       "       'T_SH_EQUITY_MINORITY_INT_LAG3', 'DATA_VALUE2170002035',\n",
       "       'DISBUR_LA_GROWTH12_LAG1', 'T_SH_EQUITY_LAG4',\n",
       "       'T_SH_EQUITY_DERIV_LIAB_LAG2', 'RANK_SPEC_OR_Q1', 'AE_GROWTH9_LAG2',\n",
       "       'target_REVENUE_Q1'],\n",
       "      dtype='object', length=2619)"
      ]
     },
     "execution_count": 9,
     "metadata": {},
     "output_type": "execute_result"
    }
   ],
   "source": [
    "#查看列名\n",
    "df.columns"
   ]
  },
  {
   "cell_type": "code",
   "execution_count": 10,
   "metadata": {},
   "outputs": [
    {
     "data": {
      "text/plain": [
       "0      3.760604e+09\n",
       "1      3.730246e+09\n",
       "2      3.623103e+09\n",
       "3      4.000487e+09\n",
       "4      4.084252e+09\n",
       "           ...     \n",
       "766    7.419590e+08\n",
       "767    6.896060e+08\n",
       "768    6.723730e+08\n",
       "769    6.982370e+08\n",
       "770             NaN\n",
       "Name: target_REVENUE_Q1, Length: 768, dtype: float64"
      ]
     },
     "execution_count": 10,
     "metadata": {},
     "output_type": "execute_result"
    }
   ],
   "source": [
    "#查看因变量\n",
    "df['target_REVENUE_Q1']"
   ]
  },
  {
   "cell_type": "code",
   "execution_count": 11,
   "metadata": {
    "uuid": "3c462163-8fd3-4ed6-9f00-7a92b106cbaa"
   },
   "outputs": [
    {
     "name": "stderr",
     "output_type": "stream",
     "text": [
      "C:\\Users\\soloman\\AppData\\Roaming\\Python\\Python37\\site-packages\\pandas\\core\\frame.py:3997: SettingWithCopyWarning: \n",
      "A value is trying to be set on a copy of a slice from a DataFrame\n",
      "\n",
      "See the caveats in the documentation: https://pandas.pydata.org/pandas-docs/stable/user_guide/indexing.html#returning-a-view-versus-a-copy\n",
      "  errors=errors,\n"
     ]
    }
   ],
   "source": [
    "#测试集的生成\n",
    "    #测试集的截止日期为2018-03-31\n",
    "    #END_DATE\tEnd date\t截止日期\n",
    "\n",
    "X_test = df.loc[(df['target_REVENUE_Q1'].isnull()) & (df['END_DATE'] == '2018-03-31'), ]\n",
    "X_test.drop('target_REVENUE_Q1', axis=1, inplace=True)"
   ]
  },
  {
   "cell_type": "code",
   "execution_count": 12,
   "metadata": {
    "uuid": "3c462163-8fd3-4ed6-9f00-7a92b106cbaa"
   },
   "outputs": [
    {
     "name": "stderr",
     "output_type": "stream",
     "text": [
      "C:\\Users\\soloman\\AppData\\Roaming\\Python\\Python37\\site-packages\\pandas\\core\\indexing.py:966: SettingWithCopyWarning: \n",
      "A value is trying to be set on a copy of a slice from a DataFrame.\n",
      "Try using .loc[row_indexer,col_indexer] = value instead\n",
      "\n",
      "See the caveats in the documentation: https://pandas.pydata.org/pandas-docs/stable/user_guide/indexing.html#returning-a-view-versus-a-copy\n",
      "  self.obj[item] = s\n"
     ]
    }
   ],
   "source": [
    "#训练集的产生\n",
    "X = df.loc[(df['target_REVENUE_Q1'] > 0.), ]\n",
    "y = X['target_REVENUE_Q1']\n",
    "X.drop('target_REVENUE_Q1', axis=1, inplace=True)\n",
    "\n",
    "X.loc[:, X.dtypes == 'float64'] = X.loc[:, X.dtypes == \"float64\"].fillna(0.00001)\n",
    "cols = [i for i in df.columns if i not in ['TICKER_SYMBOL', 'END_DATE', 'target_REVENUE_Q1']]\n",
    "X = X[cols]\n",
    "\n",
    "y = y / 10000.0\n",
    "log_y = np.log(y)/np.log(LOG_N)"
   ]
  },
  {
   "cell_type": "code",
   "execution_count": 13,
   "metadata": {
    "uuid": "3c462163-8fd3-4ed6-9f00-7a92b106cbaa"
   },
   "outputs": [
    {
     "data": {
      "text/plain": [
       "MinMaxScaler(copy=True, feature_range=(0, 1))"
      ]
     },
     "execution_count": 13,
     "metadata": {},
     "output_type": "execute_result"
    }
   ],
   "source": [
    "#数据标准化处理\n",
    "from sklearn.preprocessing import MinMaxScaler\n",
    "scaler = MinMaxScaler()\n",
    "scaler.fit(df[cols])"
   ]
  },
  {
   "cell_type": "markdown",
   "metadata": {
    "uuid": "735d3a3b-e6d0-4b13-bea1-1c201453388a"
   },
   "source": [
    "# 模型训练"
   ]
  },
  {
   "cell_type": "code",
   "execution_count": 14,
   "metadata": {
    "uuid": "ab8c22b4-4ed9-4ab6-a9a9-5e35e0b186a7"
   },
   "outputs": [],
   "source": [
    "#创建四种模型的原型\n",
    "from sklearn.ensemble import RandomForestRegressor, GradientBoostingRegressor, ExtraTreesRegressor\n",
    "from xgboost import XGBRegressor\n",
    "\n",
    "xgb = XGBRegressor(n_estimators = xgb_EST, subsample=xgb_SAM, learning_rate = xgb_LRAT)\n",
    "extra = ExtraTreesRegressor(n_estimators = etr_EST, max_features= etr_FEAT)\n",
    "gbr = GradientBoostingRegressor(n_estimators = gbr_EST, max_features= gbr_FEAT, learning_rate = gbr_LRAT)\n",
    "rf = RandomForestRegressor(n_estimators = rf_EST, max_features= rf_FEAT)"
   ]
  },
  {
   "cell_type": "code",
   "execution_count": 15,
   "metadata": {
    "uuid": "ed404bf3-3caf-4ef1-a9a2-beaeed02a1dc"
   },
   "outputs": [
    {
     "name": "stdout",
     "output_type": "stream",
     "text": [
      "[ExtraTreesRegressor(bootstrap=False, criterion='mse', max_depth=None,\n",
      "                    max_features=0.8, max_leaf_nodes=None,\n",
      "                    min_impurity_decrease=0.0, min_impurity_split=None,\n",
      "                    min_samples_leaf=1, min_samples_split=2,\n",
      "                    min_weight_fraction_leaf=0.0, n_estimators=25, n_jobs=None,\n",
      "                    oob_score=False, random_state=None, verbose=0,\n",
      "                    warm_start=False), GradientBoostingRegressor(alpha=0.9, criterion='friedman_mse', init=None,\n",
      "                          learning_rate=0.1, loss='ls', max_depth=3,\n",
      "                          max_features=0.8, max_leaf_nodes=None,\n",
      "                          min_impurity_decrease=0.0, min_impurity_split=None,\n",
      "                          min_samples_leaf=1, min_samples_split=2,\n",
      "                          min_weight_fraction_leaf=0.0, n_estimators=200,\n",
      "                          n_iter_no_change=None, presort='auto',\n",
      "                          random_state=None, subsample=1.0, tol=0.0001,\n",
      "                          validation_fraction=0.1, verbose=0, warm_start=False), RandomForestRegressor(bootstrap=True, criterion='mse', max_depth=None,\n",
      "                      max_features=0.8, max_leaf_nodes=None,\n",
      "                      min_impurity_decrease=0.0, min_impurity_split=None,\n",
      "                      min_samples_leaf=1, min_samples_split=2,\n",
      "                      min_weight_fraction_leaf=0.0, n_estimators=25,\n",
      "                      n_jobs=None, oob_score=False, random_state=None,\n",
      "                      verbose=0, warm_start=False), XGBRegressor(base_score=None, booster=None, colsample_bylevel=None,\n",
      "             colsample_bynode=None, colsample_bytree=None, gamma=None,\n",
      "             gpu_id=None, importance_type='gain', interaction_constraints=None,\n",
      "             learning_rate=0.1, max_delta_step=None, max_depth=None,\n",
      "             min_child_weight=None, missing=nan, monotone_constraints=None,\n",
      "             n_estimators=300, n_jobs=None, num_parallel_tree=None,\n",
      "             objective='reg:squarederror', random_state=None, reg_alpha=None,\n",
      "             reg_lambda=None, scale_pos_weight=None, subsample=0.8,\n",
      "             tree_method=None, validate_parameters=None, verbosity=None)]\n"
     ]
    }
   ],
   "source": [
    "# 采用集成学习方法\n",
    "    #根据AlgorithmsInEL的值，选择不同的模型，计算平均值\n",
    "\n",
    "if(AlgorithmsInEL == 0):\n",
    "    print([extra,rf])\n",
    "    ensembleModel = EnsembleLearners(models=[extra,rf], weight= [0.5,0.5])\n",
    "elif(AlgorithmsInEL == 1):\n",
    "    print([gbr,xgb])\n",
    "    ensembleModel = EnsembleLearners(models=[gbr,xgb], weight= [0.5,0.5])\n",
    "elif(AlgorithmsInEL == 2):\n",
    "    print([extra,gbr,rf,xgb])\n",
    "    ensembleModel = EnsembleLearners(models=[extra,gbr,rf,xgb], weight= [0.25,0.25,0.25,0.25])"
   ]
  },
  {
   "cell_type": "code",
   "execution_count": 16,
   "metadata": {
    "uuid": "72ef5247-cc81-418f-b1a7-2c7e9f963bc7"
   },
   "outputs": [],
   "source": [
    "#标准化处理\n",
    "X_scaled = scaler.transform(X)"
   ]
  },
  {
   "cell_type": "code",
   "execution_count": 17,
   "metadata": {
    "uuid": "72ef5247-cc81-418f-b1a7-2c7e9f963bc7"
   },
   "outputs": [
    {
     "data": {
      "text/plain": [
       "EnsembleLearners(models=[ExtraTreesRegressor(bootstrap=False, criterion='mse',\n",
       "                                             max_depth=None, max_features=0.8,\n",
       "                                             max_leaf_nodes=None,\n",
       "                                             min_impurity_decrease=0.0,\n",
       "                                             min_impurity_split=None,\n",
       "                                             min_samples_leaf=1,\n",
       "                                             min_samples_split=2,\n",
       "                                             min_weight_fraction_leaf=0.0,\n",
       "                                             n_estimators=25, n_jobs=None,\n",
       "                                             oob_score=False, random_state=None,\n",
       "                                             verbose=0, warm_start=False),\n",
       "                         GradientBoost...\n",
       "                                      learning_rate=0.1, max_delta_step=None,\n",
       "                                      max_depth=None, min_child_weight=None,\n",
       "                                      missing=nan, monotone_constraints=None,\n",
       "                                      n_estimators=300, n_jobs=None,\n",
       "                                      num_parallel_tree=None,\n",
       "                                      objective='reg:squarederror',\n",
       "                                      random_state=None, reg_alpha=None,\n",
       "                                      reg_lambda=None, scale_pos_weight=None,\n",
       "                                      subsample=0.8, tree_method=None,\n",
       "                                      validate_parameters=None,\n",
       "                                      verbosity=None)],\n",
       "                 weight=[0.25, 0.25, 0.25, 0.25])"
      ]
     },
     "execution_count": 17,
     "metadata": {},
     "output_type": "execute_result"
    }
   ],
   "source": [
    "#拟合\n",
    "ensembleModel.fit(X_scaled,log_y)"
   ]
  },
  {
   "cell_type": "markdown",
   "metadata": {},
   "source": [
    "# 模型预测"
   ]
  },
  {
   "cell_type": "code",
   "execution_count": 18,
   "metadata": {
    "uuid": "c48a3c6c-93b3-40d0-ae72-398477d86133"
   },
   "outputs": [
    {
     "data": {
      "text/html": [
       "<div>\n",
       "<style scoped>\n",
       "    .dataframe tbody tr th:only-of-type {\n",
       "        vertical-align: middle;\n",
       "    }\n",
       "\n",
       "    .dataframe tbody tr th {\n",
       "        vertical-align: top;\n",
       "    }\n",
       "\n",
       "    .dataframe thead th {\n",
       "        text-align: right;\n",
       "    }\n",
       "</style>\n",
       "<table border=\"1\" class=\"dataframe\">\n",
       "  <thead>\n",
       "    <tr style=\"text-align: right;\">\n",
       "      <th></th>\n",
       "      <th>TICKER_SYMBOL</th>\n",
       "      <th>PRED</th>\n",
       "    </tr>\n",
       "  </thead>\n",
       "  <tbody>\n",
       "    <tr>\n",
       "      <th>0</th>\n",
       "      <td>1</td>\n",
       "      <td>56026.49</td>\n",
       "    </tr>\n",
       "    <tr>\n",
       "      <th>1</th>\n",
       "      <td>2142</td>\n",
       "      <td>13306.80</td>\n",
       "    </tr>\n",
       "    <tr>\n",
       "      <th>2</th>\n",
       "      <td>2807</td>\n",
       "      <td>1278.13</td>\n",
       "    </tr>\n",
       "    <tr>\n",
       "      <th>3</th>\n",
       "      <td>2839</td>\n",
       "      <td>1271.60</td>\n",
       "    </tr>\n",
       "    <tr>\n",
       "      <th>4</th>\n",
       "      <td>600000</td>\n",
       "      <td>78017.10</td>\n",
       "    </tr>\n",
       "  </tbody>\n",
       "</table>\n",
       "</div>"
      ],
      "text/plain": [
       "   TICKER_SYMBOL      PRED\n",
       "0              1  56026.49\n",
       "1           2142  13306.80\n",
       "2           2807   1278.13\n",
       "3           2839   1271.60\n",
       "4         600000  78017.10"
      ]
     },
     "execution_count": 18,
     "metadata": {},
     "output_type": "execute_result"
    }
   ],
   "source": [
    "#在测试集上预测\n",
    "to_pred_x = X_test[cols]\n",
    "to_pred_scaled_x = scaler.transform(to_pred_x)\n",
    "pred = np.power(LOG_N, ensembleModel.predict(to_pred_scaled_x)) * 10000.\n",
    "\n",
    "submit_symbols = list(X_test.TICKER_SYMBOL)\n",
    "submit_results = list((np.array(X_test.REVENUE_Q1) + np.array(pred)) / 1000000.)\n",
    "submit_results = [float('%.2f' % w) for w in submit_results]\n",
    "\n",
    "res = pd.DataFrame({'TICKER_SYMBOL': submit_symbols, 'PRED': submit_results})\n",
    "res.head()"
   ]
  },
  {
   "cell_type": "code",
   "execution_count": null,
   "metadata": {},
   "outputs": [],
   "source": []
  },
  {
   "cell_type": "code",
   "execution_count": null,
   "metadata": {},
   "outputs": [],
   "source": []
  }
 ],
 "metadata": {
  "kernelspec": {
   "display_name": "Python 3",
   "language": "python",
   "name": "python3"
  },
  "language_info": {
   "codemirror_mode": {
    "name": "ipython",
    "version": 3
   },
   "file_extension": ".py",
   "mimetype": "text/x-python",
   "name": "python",
   "nbconvert_exporter": "python",
   "pygments_lexer": "ipython3",
   "version": "3.7.4"
  },
  "toc": {
   "base_numbering": 1,
   "nav_menu": {},
   "number_sections": true,
   "sideBar": true,
   "skip_h1_title": false,
   "title_cell": "Table of Contents",
   "title_sidebar": "Contents",
   "toc_cell": false,
   "toc_position": {},
   "toc_section_display": true,
   "toc_window_display": true
  }
 },
 "nbformat": 4,
 "nbformat_minor": 4
}
