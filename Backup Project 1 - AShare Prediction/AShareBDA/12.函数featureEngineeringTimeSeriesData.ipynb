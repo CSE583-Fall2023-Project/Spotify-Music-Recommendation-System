{
 "cells": [
  {
   "cell_type": "code",
   "execution_count": 1,
   "metadata": {
    "uuid": "13c61b2c-74e6-4ffd-aeb1-80aef76ff9a5"
   },
   "outputs": [],
   "source": [
    "#功能\n",
    "    #在训练集中增加窗口特征\n",
    "    \n",
    "#源代码\n",
    "    #shift_batch(df_train,N_LAG)\n",
    "\n",
    "#功能\n",
    "    #在训练集中增加窗口特征\n",
    "    #时间序列数据的特征工程\n",
    "    #常用方法有三种：Date Time Features；Lag Features；Window Features\n",
    "    #本代码采用的是 Window Features: these are a summary of values over a fixed window of prior time steps.\n",
    "    #滑窗方式增加特征——列，原649增长为3235"
   ]
  },
  {
   "cell_type": "markdown",
   "metadata": {
    "uuid": "e0efb2b9-b2d6-4f53-b5b5-4815b48c07aa"
   },
   "source": [
    "# 读入数据"
   ]
  },
  {
   "cell_type": "code",
   "execution_count": 2,
   "metadata": {
    "uuid": "29680e30-12a9-45df-bb72-7ec8dc29bbfb"
   },
   "outputs": [],
   "source": [
    "import pandas as pd\n",
    "df_train = pd.read_csv(\"Data/df_train.csv\",index_col=0)\n",
    "N_LAG=5 #lag的设置进行几节数据偏移"
   ]
  },
  {
   "cell_type": "code",
   "execution_count": 3,
   "metadata": {
    "uuid": "9681c981-41d0-46f5-8c3c-61e2b22d2beb"
   },
   "outputs": [
    {
     "data": {
      "text/plain": [
       "(768, 651)"
      ]
     },
     "execution_count": 3,
     "metadata": {},
     "output_type": "execute_result"
    }
   ],
   "source": [
    "df_train.shape"
   ]
  },
  {
   "cell_type": "code",
   "execution_count": 4,
   "metadata": {
    "uuid": "1de7bad9-746f-4ab9-aaf2-661a49ba6962"
   },
   "outputs": [
    {
     "data": {
      "text/plain": [
       "Index(['TICKER_SYMBOL', 'END_DATE', 'C_RESER_CB', 'DEPOS_IN_OTH_BFI',\n",
       "       'PRECI_METALS', 'LOAN_TO_OTH_BANK_FI', 'TRADING_FA', 'DERIV_ASSETS',\n",
       "       'PUR_RESALE_FA', 'INT_RECEIV',\n",
       "       ...\n",
       "       'DATA_VALUE2170726264', 'DATA_VALUE2170726265', 'DATA_VALUE2170726266',\n",
       "       'DATA_VALUE2210200588', 'Unnamed: 0.1', 'Unnamed: 0.1.1', 'CLOSE_PRICE',\n",
       "       'TURNOVER_VOL', 'TURNOVER_VALUE', 'MARKET_VALUE'],\n",
       "      dtype='object', length=651)"
      ]
     },
     "execution_count": 4,
     "metadata": {},
     "output_type": "execute_result"
    }
   ],
   "source": [
    "df_train.columns"
   ]
  },
  {
   "cell_type": "code",
   "execution_count": 5,
   "metadata": {
    "uuid": "5ec61720-37d7-4511-84a5-331f3d0d6309"
   },
   "outputs": [],
   "source": [
    "df_s = df_train\n",
    "n_lag = N_LAG"
   ]
  },
  {
   "cell_type": "markdown",
   "metadata": {
    "uuid": "1d1fe079-90e6-4666-85d5-ea94d4d80d37"
   },
   "source": [
    "# 定义窗口特征（Window Features）"
   ]
  },
  {
   "cell_type": "code",
   "execution_count": 6,
   "metadata": {
    "uuid": "8369139b-191e-4fed-9ca8-f114dec568d1"
   },
   "outputs": [
    {
     "data": {
      "text/plain": [
       "Index(['C_RESER_CB', 'DEPOS_IN_OTH_BFI', 'PRECI_METALS', 'LOAN_TO_OTH_BANK_FI',\n",
       "       'TRADING_FA', 'DERIV_ASSETS', 'PUR_RESALE_FA', 'INT_RECEIV',\n",
       "       'DISBUR_LA', 'FINAN_LEASE_RECEIV',\n",
       "       ...\n",
       "       'DATA_VALUE2170726264', 'DATA_VALUE2170726265', 'DATA_VALUE2170726266',\n",
       "       'DATA_VALUE2210200588', 'Unnamed: 0.1', 'Unnamed: 0.1.1', 'CLOSE_PRICE',\n",
       "       'TURNOVER_VOL', 'TURNOVER_VALUE', 'MARKET_VALUE'],\n",
       "      dtype='object', length=649)"
      ]
     },
     "execution_count": 6,
     "metadata": {},
     "output_type": "execute_result"
    }
   ],
   "source": [
    "#生成自变量列\n",
    "list_col = df_s.columns[2:]\n",
    "    #删除第0-1列，'TICKER_SYMBOL', 'END_DATE'\n",
    "list_col"
   ]
  },
  {
   "cell_type": "code",
   "execution_count": 7,
   "metadata": {
    "uuid": "187d120e-4e48-49e9-b369-542aa59f096f"
   },
   "outputs": [
    {
     "name": "stdout",
     "output_type": "stream",
     "text": [
      "1\n",
      "2\n",
      "3\n",
      "4\n",
      "5\n"
     ]
    },
    {
     "data": {
      "text/plain": [
       "(768, 3245)"
      ]
     },
     "execution_count": 7,
     "metadata": {},
     "output_type": "execute_result"
    }
   ],
   "source": [
    "#思路：n_lag为窗口大小\n",
    "df_append =  []\n",
    "for i in range(n_lag):\n",
    "    print(i+1)\n",
    "    df_tmp = df_s.groupby(['TICKER_SYMBOL'])[list_col].shift(i+1)\n",
    "    list_col_target = [col+'_'+'LAG'+str(i+1) for col in df_tmp.columns]\n",
    "    df_tmp.columns = list_col_target\n",
    "    df_append.append(df_tmp)\n",
    "df_s = pd.concat(df_append, axis=1)\n",
    "\n",
    "#多了5倍的列 （行数没变，列数变了）\n",
    "df_s.shape"
   ]
  },
  {
   "cell_type": "markdown",
   "metadata": {
    "uuid": "78edc66e-0d00-4bc3-81d3-5fe73b484753"
   },
   "source": [
    "# 返回带有窗口特征的训练集"
   ]
  },
  {
   "cell_type": "code",
   "execution_count": 8,
   "metadata": {
    "uuid": "2a831df4-97a1-421e-aff0-3d8b4dffced1"
   },
   "outputs": [
    {
     "data": {
      "text/html": [
       "<div>\n",
       "<style scoped>\n",
       "    .dataframe tbody tr th:only-of-type {\n",
       "        vertical-align: middle;\n",
       "    }\n",
       "\n",
       "    .dataframe tbody tr th {\n",
       "        vertical-align: top;\n",
       "    }\n",
       "\n",
       "    .dataframe thead th {\n",
       "        text-align: right;\n",
       "    }\n",
       "</style>\n",
       "<table border=\"1\" class=\"dataframe\">\n",
       "  <thead>\n",
       "    <tr style=\"text-align: right;\">\n",
       "      <th></th>\n",
       "      <th>C_RESER_CB_LAG1</th>\n",
       "      <th>DEPOS_IN_OTH_BFI_LAG1</th>\n",
       "      <th>PRECI_METALS_LAG1</th>\n",
       "      <th>LOAN_TO_OTH_BANK_FI_LAG1</th>\n",
       "      <th>TRADING_FA_LAG1</th>\n",
       "      <th>DERIV_ASSETS_LAG1</th>\n",
       "      <th>PUR_RESALE_FA_LAG1</th>\n",
       "      <th>INT_RECEIV_LAG1</th>\n",
       "      <th>DISBUR_LA_LAG1</th>\n",
       "      <th>FINAN_LEASE_RECEIV_LAG1</th>\n",
       "      <th>...</th>\n",
       "      <th>DATA_VALUE2170726264_LAG5</th>\n",
       "      <th>DATA_VALUE2170726265_LAG5</th>\n",
       "      <th>DATA_VALUE2170726266_LAG5</th>\n",
       "      <th>DATA_VALUE2210200588_LAG5</th>\n",
       "      <th>Unnamed: 0.1_LAG5</th>\n",
       "      <th>Unnamed: 0.1.1_LAG5</th>\n",
       "      <th>CLOSE_PRICE_LAG5</th>\n",
       "      <th>TURNOVER_VOL_LAG5</th>\n",
       "      <th>TURNOVER_VALUE_LAG5</th>\n",
       "      <th>MARKET_VALUE_LAG5</th>\n",
       "    </tr>\n",
       "  </thead>\n",
       "  <tbody>\n",
       "    <tr>\n",
       "      <th>0</th>\n",
       "      <td>NaN</td>\n",
       "      <td>NaN</td>\n",
       "      <td>NaN</td>\n",
       "      <td>NaN</td>\n",
       "      <td>NaN</td>\n",
       "      <td>NaN</td>\n",
       "      <td>NaN</td>\n",
       "      <td>NaN</td>\n",
       "      <td>NaN</td>\n",
       "      <td>NaN</td>\n",
       "      <td>...</td>\n",
       "      <td>NaN</td>\n",
       "      <td>NaN</td>\n",
       "      <td>NaN</td>\n",
       "      <td>NaN</td>\n",
       "      <td>NaN</td>\n",
       "      <td>NaN</td>\n",
       "      <td>NaN</td>\n",
       "      <td>NaN</td>\n",
       "      <td>NaN</td>\n",
       "      <td>NaN</td>\n",
       "    </tr>\n",
       "    <tr>\n",
       "      <th>1</th>\n",
       "      <td>3.976790e+10</td>\n",
       "      <td>2.150081e+10</td>\n",
       "      <td>9225000.0</td>\n",
       "      <td>9.236676e+09</td>\n",
       "      <td>41441000.0</td>\n",
       "      <td>290751000.0</td>\n",
       "      <td>3.473335e+10</td>\n",
       "      <td>1.605636e+09</td>\n",
       "      <td>2.817147e+11</td>\n",
       "      <td>0.00001</td>\n",
       "      <td>...</td>\n",
       "      <td>NaN</td>\n",
       "      <td>NaN</td>\n",
       "      <td>NaN</td>\n",
       "      <td>NaN</td>\n",
       "      <td>NaN</td>\n",
       "      <td>NaN</td>\n",
       "      <td>NaN</td>\n",
       "      <td>NaN</td>\n",
       "      <td>NaN</td>\n",
       "      <td>NaN</td>\n",
       "    </tr>\n",
       "  </tbody>\n",
       "</table>\n",
       "<p>2 rows × 3245 columns</p>\n",
       "</div>"
      ],
      "text/plain": [
       "   C_RESER_CB_LAG1  DEPOS_IN_OTH_BFI_LAG1  PRECI_METALS_LAG1  \\\n",
       "0              NaN                    NaN                NaN   \n",
       "1     3.976790e+10           2.150081e+10          9225000.0   \n",
       "\n",
       "   LOAN_TO_OTH_BANK_FI_LAG1  TRADING_FA_LAG1  DERIV_ASSETS_LAG1  \\\n",
       "0                       NaN              NaN                NaN   \n",
       "1              9.236676e+09       41441000.0        290751000.0   \n",
       "\n",
       "   PUR_RESALE_FA_LAG1  INT_RECEIV_LAG1  DISBUR_LA_LAG1  \\\n",
       "0                 NaN              NaN             NaN   \n",
       "1        3.473335e+10     1.605636e+09    2.817147e+11   \n",
       "\n",
       "   FINAN_LEASE_RECEIV_LAG1  ...  DATA_VALUE2170726264_LAG5  \\\n",
       "0                      NaN  ...                        NaN   \n",
       "1                  0.00001  ...                        NaN   \n",
       "\n",
       "   DATA_VALUE2170726265_LAG5  DATA_VALUE2170726266_LAG5  \\\n",
       "0                        NaN                        NaN   \n",
       "1                        NaN                        NaN   \n",
       "\n",
       "   DATA_VALUE2210200588_LAG5  Unnamed: 0.1_LAG5  Unnamed: 0.1.1_LAG5  \\\n",
       "0                        NaN                NaN                  NaN   \n",
       "1                        NaN                NaN                  NaN   \n",
       "\n",
       "   CLOSE_PRICE_LAG5  TURNOVER_VOL_LAG5  TURNOVER_VALUE_LAG5  MARKET_VALUE_LAG5  \n",
       "0               NaN                NaN                  NaN                NaN  \n",
       "1               NaN                NaN                  NaN                NaN  \n",
       "\n",
       "[2 rows x 3245 columns]"
      ]
     },
     "execution_count": 8,
     "metadata": {},
     "output_type": "execute_result"
    }
   ],
   "source": [
    "#返回值为df_s\n",
    "df_s.head(2)"
   ]
  },
  {
   "cell_type": "code",
   "execution_count": 9,
   "metadata": {
    "uuid": "2a831df4-97a1-421e-aff0-3d8b4dffced1"
   },
   "outputs": [
    {
     "data": {
      "text/plain": [
       "Index(['C_RESER_CB_LAG1', 'DEPOS_IN_OTH_BFI_LAG1', 'PRECI_METALS_LAG1',\n",
       "       'LOAN_TO_OTH_BANK_FI_LAG1', 'TRADING_FA_LAG1', 'DERIV_ASSETS_LAG1',\n",
       "       'PUR_RESALE_FA_LAG1', 'INT_RECEIV_LAG1', 'DISBUR_LA_LAG1',\n",
       "       'FINAN_LEASE_RECEIV_LAG1',\n",
       "       ...\n",
       "       'DATA_VALUE2170726264_LAG5', 'DATA_VALUE2170726265_LAG5',\n",
       "       'DATA_VALUE2170726266_LAG5', 'DATA_VALUE2210200588_LAG5',\n",
       "       'Unnamed: 0.1_LAG5', 'Unnamed: 0.1.1_LAG5', 'CLOSE_PRICE_LAG5',\n",
       "       'TURNOVER_VOL_LAG5', 'TURNOVER_VALUE_LAG5', 'MARKET_VALUE_LAG5'],\n",
       "      dtype='object', length=3245)"
      ]
     },
     "execution_count": 9,
     "metadata": {},
     "output_type": "execute_result"
    }
   ],
   "source": [
    "df_s.columns"
   ]
  },
  {
   "cell_type": "code",
   "execution_count": 10,
   "metadata": {
    "uuid": "5cbf1902-7756-4268-aaea-20ab51ce09eb"
   },
   "outputs": [
    {
     "data": {
      "text/plain": [
       "(768, 3245)"
      ]
     },
     "execution_count": 10,
     "metadata": {},
     "output_type": "execute_result"
    }
   ],
   "source": [
    "df_s.shape"
   ]
  },
  {
   "cell_type": "markdown",
   "metadata": {},
   "source": [
    "# 附 移动数据方式的解读"
   ]
  },
  {
   "cell_type": "markdown",
   "metadata": {},
   "source": [
    "\n",
    "![jupyter](./Images/pandas-dataframe-shift.svg)"
   ]
  },
  {
   "cell_type": "code",
   "execution_count": 11,
   "metadata": {
    "scrolled": true
   },
   "outputs": [
    {
     "data": {
      "text/plain": [
       "((768, 649),\n",
       "      C_RESER_CB  DEPOS_IN_OTH_BFI  PRECI_METALS  LOAN_TO_OTH_BANK_FI  \\\n",
       " 0           NaN               NaN           NaN                  NaN   \n",
       " 1           NaN               NaN           NaN                  NaN   \n",
       " 2  3.976790e+10      2.150081e+10     9225000.0         9.236676e+09   \n",
       " 3  3.954528e+10      3.281080e+10     7080000.0         9.836695e+09   \n",
       " 4  4.222817e+10      2.081290e+10     5342000.0         7.998342e+09   \n",
       " \n",
       "      TRADING_FA  DERIV_ASSETS  PUR_RESALE_FA    INT_RECEIV     DISBUR_LA  \\\n",
       " 0           NaN           NaN            NaN           NaN           NaN   \n",
       " 1           NaN           NaN            NaN           NaN           NaN   \n",
       " 2  4.144100e+07   290751000.0   3.473335e+10  1.605636e+09  2.817147e+11   \n",
       " 3  1.363916e+09   200250000.0   3.247499e+10  1.946312e+09  3.168747e+11   \n",
       " 4  1.785393e+09   162354000.0   3.795794e+10  1.711397e+09  3.390569e+11   \n",
       " \n",
       "    FINAN_LEASE_RECEIV  ...  DATA_VALUE2170726264  DATA_VALUE2170726265  \\\n",
       " 0                 NaN  ...                   NaN                   NaN   \n",
       " 1                 NaN  ...                   NaN                   NaN   \n",
       " 2             0.00001  ...                 7.135              4.753279   \n",
       " 3             0.00001  ...                 7.135              4.753279   \n",
       " 4             0.00001  ...                 7.135              4.753279   \n",
       " \n",
       "    DATA_VALUE2170726266  DATA_VALUE2210200588  Unnamed: 0.1  Unnamed: 0.1.1  \\\n",
       " 0                   NaN                   NaN           NaN             NaN   \n",
       " 1                   NaN                   NaN           NaN             NaN   \n",
       " 2              1.349286             10.376667           7.0             7.0   \n",
       " 3              1.349286              8.543333           8.0             8.0   \n",
       " 4              1.349286              7.883333           9.0             9.0   \n",
       " \n",
       "    CLOSE_PRICE  TURNOVER_VOL  TURNOVER_VALUE  MARKET_VALUE  \n",
       " 0          NaN           NaN             NaN           NaN  \n",
       " 1          NaN           NaN             NaN           NaN  \n",
       " 2     3.019333  9.124747e+08    9.579367e+09  2.776258e+10  \n",
       " 3     4.658667  1.096579e+09    1.452570e+10  4.283428e+10  \n",
       " 4     6.302333  8.111175e+08    1.525179e+10  5.794739e+10  \n",
       " \n",
       " [5 rows x 649 columns])"
      ]
     },
     "execution_count": 11,
     "metadata": {},
     "output_type": "execute_result"
    }
   ],
   "source": [
    "#代码行 df_tmp = df_s.groupby(['TICKER_SYMBOL'])[list_col].shift(i+1)\n",
    "df_train = pd.read_csv(\"Data/df_train.csv\",index_col=0)\n",
    "df_s = df_train\n",
    "list_col = df_s.columns[2:]\n",
    "df_tmp = df_s.groupby(['TICKER_SYMBOL'])[list_col].shift(2, axis=0)\n",
    "df_tmp.shape, df_tmp.head()\n"
   ]
  },
  {
   "cell_type": "code",
   "execution_count": 12,
   "metadata": {},
   "outputs": [
    {
     "data": {
      "text/plain": [
       "Index(['C_RESER_CB', 'DEPOS_IN_OTH_BFI', 'PRECI_METALS', 'LOAN_TO_OTH_BANK_FI',\n",
       "       'TRADING_FA'],\n",
       "      dtype='object')"
      ]
     },
     "execution_count": 12,
     "metadata": {},
     "output_type": "execute_result"
    }
   ],
   "source": [
    "df_tmp.columns[:5]"
   ]
  },
  {
   "cell_type": "code",
   "execution_count": 13,
   "metadata": {},
   "outputs": [
    {
     "data": {
      "text/plain": [
       "['C_RESER_CB_LAG2',\n",
       " 'DEPOS_IN_OTH_BFI_LAG2',\n",
       " 'PRECI_METALS_LAG2',\n",
       " 'LOAN_TO_OTH_BANK_FI_LAG2',\n",
       " 'TRADING_FA_LAG2']"
      ]
     },
     "execution_count": 13,
     "metadata": {},
     "output_type": "execute_result"
    }
   ],
   "source": [
    "# 代码行list_col_target = [col+'_'+'LAG'+str(i+1) for col in df_tmp.columns]\n",
    "    #定义新的列名：原列名+LAG+移动位数\n",
    "    \n",
    "list_col_target1 = [col+'_'+'LAG'+str(0+2) for col in df_tmp.columns]\n",
    "list_col_target1[:5]"
   ]
  },
  {
   "cell_type": "code",
   "execution_count": 14,
   "metadata": {},
   "outputs": [
    {
     "data": {
      "text/plain": [
       "['C_RESER_CB_LAG2',\n",
       " 'DEPOS_IN_OTH_BFI_LAG2',\n",
       " 'PRECI_METALS_LAG2',\n",
       " 'LOAN_TO_OTH_BANK_FI_LAG2',\n",
       " 'TRADING_FA_LAG2']"
      ]
     },
     "execution_count": 14,
     "metadata": {},
     "output_type": "execute_result"
    }
   ],
   "source": [
    "list_col_target2 = [col+'_'+'LAG'+str(1+1) for col in df_tmp.columns]\n",
    "list_col_target2[:5]"
   ]
  },
  {
   "cell_type": "markdown",
   "metadata": {
    "uuid": "d3346b05-7a1b-4380-975b-c26dc7eac782"
   },
   "source": [
    "# 垃圾回收机制"
   ]
  },
  {
   "cell_type": "code",
   "execution_count": 15,
   "metadata": {
    "uuid": "7f89c702-d38c-47ff-9fc8-5a78c0472f68"
   },
   "outputs": [],
   "source": [
    "# import gc\n",
    "# del df_append\n",
    "# del df_tmp\n",
    "# gc.collect()"
   ]
  },
  {
   "cell_type": "code",
   "execution_count": null,
   "metadata": {},
   "outputs": [],
   "source": []
  }
 ],
 "metadata": {
  "kernelspec": {
   "display_name": "Python 3",
   "language": "python",
   "name": "python3"
  },
  "language_info": {
   "codemirror_mode": {
    "name": "ipython",
    "version": 3
   },
   "file_extension": ".py",
   "mimetype": "text/x-python",
   "name": "python",
   "nbconvert_exporter": "python",
   "pygments_lexer": "ipython3",
   "version": "3.7.4"
  },
  "toc": {
   "base_numbering": 1,
   "nav_menu": {},
   "number_sections": true,
   "sideBar": true,
   "skip_h1_title": false,
   "title_cell": "Table of Contents",
   "title_sidebar": "Contents",
   "toc_cell": false,
   "toc_position": {},
   "toc_section_display": true,
   "toc_window_display": true
  }
 },
 "nbformat": 4,
 "nbformat_minor": 4
}
