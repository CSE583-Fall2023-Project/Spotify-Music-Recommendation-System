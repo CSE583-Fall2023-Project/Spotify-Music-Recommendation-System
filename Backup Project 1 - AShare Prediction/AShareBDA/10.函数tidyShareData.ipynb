{
 "cells": [
  {
   "cell_type": "code",
   "execution_count": 1,
   "metadata": {},
   "outputs": [],
   "source": [
    "#功能：股票数据的规整化处理\n",
    "#思路：生成由以下列组成的数据表\n",
    "    #TICKER_SYMBOL\n",
    "    #year\n",
    "    #month\n",
    "    #CLOSE_PRICE\n",
    "    #TURNOVER_VOL\n",
    "    #TURNOVER_VALUE\n",
    "    #MARKET_VALUE"
   ]
  },
  {
   "cell_type": "markdown",
   "metadata": {},
   "source": [
    "![image.png](Images/MarketShare.png)"
   ]
  },
  {
   "cell_type": "markdown",
   "metadata": {},
   "source": [
    "# 需要调用的函数"
   ]
  },
  {
   "cell_type": "code",
   "execution_count": 2,
   "metadata": {},
   "outputs": [],
   "source": [
    "#功能：提取并增设两个列——year和month \n",
    "#思路：参见 addDataTimeFeatures的详解\n",
    "\n",
    "def addDataTimeFeatures(df_s,date_column,DATETIME_UNITS):\n",
    "     \n",
    "    df_s['year'] = df_s[date_column].map(lambda x:x.year)\n",
    "    df_st = pd.DataFrame({'MONTH':df_s[date_column].astype(str).apply(lambda x:x[5:7])})\n",
    "    df_dict = pd.DataFrame({'MONTH':['01','02','03','04','05','06','07','08','09','10','11','12'],\n",
    "                            'QUARTER':['03','03','03','06','06','06','09','09','09','12','12','12'],\n",
    "                           'HALF':['06','06','06','06','06','06','12','12','12','12','12','12'],\n",
    "                           'YEAR':['12','12','12','12','12','12','12','12','12','12','12','12']})\n",
    "    df_output = pd.merge(df_st,df_dict,how='left')\n",
    "    df_s = df_s.reset_index()\n",
    "    df_s['month'] = df_output[DATETIME_UNITS]\n",
    "    return(df_s)"
   ]
  },
  {
   "cell_type": "markdown",
   "metadata": {},
   "source": [
    "# 参数设置"
   ]
  },
  {
   "cell_type": "code",
   "execution_count": 3,
   "metadata": {},
   "outputs": [],
   "source": [
    "#文件路径\n",
    "filename = 'Data/MarketData.xlsx' \n",
    "\n",
    "#统计周期的单位\n",
    "DATETIME_UNITS=\"QUARTER\""
   ]
  },
  {
   "cell_type": "markdown",
   "metadata": {},
   "source": [
    "#  读取数据"
   ]
  },
  {
   "cell_type": "code",
   "execution_count": 4,
   "metadata": {},
   "outputs": [],
   "source": [
    "import pandas as pd     \n",
    "\n",
    "df_shares = pd.DataFrame(pd.read_excel(filename,sheet_name=['DATA'],\n",
    "                                       converters={'TICKER_SYMBOL':str,'PARTY_ID':str})['DATA'])\n",
    "\n",
    "df_shares = df_shares[['TICKER_SYMBOL','END_DATE_','CLOSE_PRICE','TURNOVER_VOL','TURNOVER_VALUE','MARKET_VALUE']]"
   ]
  },
  {
   "cell_type": "markdown",
   "metadata": {},
   "source": [
    "# 选择特征"
   ]
  },
  {
   "cell_type": "code",
   "execution_count": 5,
   "metadata": {},
   "outputs": [],
   "source": [
    "df_shares.columns = ['TICKER_SYMBOL','END_DATE','CLOSE_PRICE','TURNOVER_VOL','TURNOVER_VALUE','MARKET_VALUE']"
   ]
  },
  {
   "cell_type": "markdown",
   "metadata": {},
   "source": [
    "# 将'END_DATE'一列的类型改为日期类型"
   ]
  },
  {
   "cell_type": "code",
   "execution_count": 6,
   "metadata": {},
   "outputs": [],
   "source": [
    "df_shares['END_DATE'] = pd.to_datetime(df_shares['END_DATE'])"
   ]
  },
  {
   "cell_type": "markdown",
   "metadata": {},
   "source": [
    "# 增加时间特征列"
   ]
  },
  {
   "cell_type": "code",
   "execution_count": 7,
   "metadata": {},
   "outputs": [],
   "source": [
    " #按周期匹配出年月\n",
    "df_shares = addDataTimeFeatures(df_shares,'END_DATE',DATETIME_UNITS)"
   ]
  },
  {
   "cell_type": "markdown",
   "metadata": {},
   "source": [
    "# 分组统计"
   ]
  },
  {
   "cell_type": "code",
   "execution_count": 8,
   "metadata": {},
   "outputs": [],
   "source": [
    "#按求和汇总\n",
    "df_shares_g =  df_shares.groupby(['TICKER_SYMBOL','year','month'])\\\n",
    "    [['CLOSE_PRICE','TURNOVER_VOL','TURNOVER_VALUE','MARKET_VALUE']].\\\n",
    "    mean().\\\n",
    "    reset_index()\n",
    "    "
   ]
  },
  {
   "cell_type": "code",
   "execution_count": 9,
   "metadata": {},
   "outputs": [
    {
     "data": {
      "text/html": [
       "<div>\n",
       "<style scoped>\n",
       "    .dataframe tbody tr th:only-of-type {\n",
       "        vertical-align: middle;\n",
       "    }\n",
       "\n",
       "    .dataframe tbody tr th {\n",
       "        vertical-align: top;\n",
       "    }\n",
       "\n",
       "    .dataframe thead th {\n",
       "        text-align: right;\n",
       "    }\n",
       "</style>\n",
       "<table border=\"1\" class=\"dataframe\">\n",
       "  <thead>\n",
       "    <tr style=\"text-align: right;\">\n",
       "      <th></th>\n",
       "      <th>TICKER_SYMBOL</th>\n",
       "      <th>year</th>\n",
       "      <th>month</th>\n",
       "      <th>CLOSE_PRICE</th>\n",
       "      <th>TURNOVER_VOL</th>\n",
       "      <th>TURNOVER_VALUE</th>\n",
       "      <th>MARKET_VALUE</th>\n",
       "    </tr>\n",
       "  </thead>\n",
       "  <tbody>\n",
       "    <tr>\n",
       "      <th>0</th>\n",
       "      <td>000001</td>\n",
       "      <td>2007</td>\n",
       "      <td>03</td>\n",
       "      <td>4.475000</td>\n",
       "      <td>7.087334e+08</td>\n",
       "      <td>1.257592e+10</td>\n",
       "      <td>3.700954e+10</td>\n",
       "    </tr>\n",
       "    <tr>\n",
       "      <th>1</th>\n",
       "      <td>000001</td>\n",
       "      <td>2007</td>\n",
       "      <td>06</td>\n",
       "      <td>6.660667</td>\n",
       "      <td>5.369438e+08</td>\n",
       "      <td>1.455421e+10</td>\n",
       "      <td>5.458244e+10</td>\n",
       "    </tr>\n",
       "    <tr>\n",
       "      <th>2</th>\n",
       "      <td>000001</td>\n",
       "      <td>2007</td>\n",
       "      <td>09</td>\n",
       "      <td>9.856667</td>\n",
       "      <td>5.749509e+08</td>\n",
       "      <td>2.014285e+10</td>\n",
       "      <td>7.944289e+10</td>\n",
       "    </tr>\n",
       "    <tr>\n",
       "      <th>3</th>\n",
       "      <td>000001</td>\n",
       "      <td>2007</td>\n",
       "      <td>12</td>\n",
       "      <td>10.592000</td>\n",
       "      <td>3.911309e+08</td>\n",
       "      <td>1.565396e+10</td>\n",
       "      <td>8.802817e+10</td>\n",
       "    </tr>\n",
       "    <tr>\n",
       "      <th>4</th>\n",
       "      <td>000001</td>\n",
       "      <td>2008</td>\n",
       "      <td>03</td>\n",
       "      <td>8.168667</td>\n",
       "      <td>4.643084e+08</td>\n",
       "      <td>1.544389e+10</td>\n",
       "      <td>7.235700e+10</td>\n",
       "    </tr>\n",
       "  </tbody>\n",
       "</table>\n",
       "</div>"
      ],
      "text/plain": [
       "  TICKER_SYMBOL  year month  CLOSE_PRICE  TURNOVER_VOL  TURNOVER_VALUE  \\\n",
       "0        000001  2007    03     4.475000  7.087334e+08    1.257592e+10   \n",
       "1        000001  2007    06     6.660667  5.369438e+08    1.455421e+10   \n",
       "2        000001  2007    09     9.856667  5.749509e+08    2.014285e+10   \n",
       "3        000001  2007    12    10.592000  3.911309e+08    1.565396e+10   \n",
       "4        000001  2008    03     8.168667  4.643084e+08    1.544389e+10   \n",
       "\n",
       "   MARKET_VALUE  \n",
       "0  3.700954e+10  \n",
       "1  5.458244e+10  \n",
       "2  7.944289e+10  \n",
       "3  8.802817e+10  \n",
       "4  7.235700e+10  "
      ]
     },
     "execution_count": 9,
     "metadata": {},
     "output_type": "execute_result"
    }
   ],
   "source": [
    "df_shares_g.head()"
   ]
  }
 ],
 "metadata": {
  "kernelspec": {
   "display_name": "Python 3",
   "language": "python",
   "name": "python3"
  },
  "language_info": {
   "codemirror_mode": {
    "name": "ipython",
    "version": 3
   },
   "file_extension": ".py",
   "mimetype": "text/x-python",
   "name": "python",
   "nbconvert_exporter": "python",
   "pygments_lexer": "ipython3",
   "version": "3.7.4"
  },
  "toc": {
   "base_numbering": 1,
   "nav_menu": {},
   "number_sections": true,
   "sideBar": true,
   "skip_h1_title": false,
   "title_cell": "Table of Contents",
   "title_sidebar": "Contents",
   "toc_cell": false,
   "toc_position": {},
   "toc_section_display": true,
   "toc_window_display": true
  }
 },
 "nbformat": 4,
 "nbformat_minor": 2
}
