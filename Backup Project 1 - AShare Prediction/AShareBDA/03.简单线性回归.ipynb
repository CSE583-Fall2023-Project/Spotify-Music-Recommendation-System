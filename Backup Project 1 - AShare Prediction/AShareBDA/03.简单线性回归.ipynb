{
 "cells": [
  {
   "cell_type": "markdown",
   "metadata": {
    "uuid": "094afaba-77bb-486c-a3e7-610aa4749799"
   },
   "source": [
    "# 3.简单线性回归"
   ]
  },
  {
   "cell_type": "markdown",
   "metadata": {
    "uuid": "e3acd26e-5734-4013-90aa-4dbd7ab44afa"
   },
   "source": [
    "## 3.1 读入数据并查看描述性统计信息"
   ]
  },
  {
   "cell_type": "code",
   "execution_count": 6,
   "metadata": {
    "uuid": "d16d78d9-7b1d-43e9-9491-b18b4c3b264f"
   },
   "outputs": [],
   "source": [
    "#导入数据包\n",
    "import pandas as pd\n",
    "import numpy as np\n",
    "import matplotlib.pyplot as plt"
   ]
  },
  {
   "cell_type": "code",
   "execution_count": 7,
   "metadata": {
    "uuid": "2ec3694d-2415-4c34-92b1-7d7a20b6eb52"
   },
   "outputs": [
    {
     "data": {
      "text/html": [
       "<div>\n",
       "<style scoped>\n",
       "    .dataframe tbody tr th:only-of-type {\n",
       "        vertical-align: middle;\n",
       "    }\n",
       "\n",
       "    .dataframe tbody tr th {\n",
       "        vertical-align: top;\n",
       "    }\n",
       "\n",
       "    .dataframe thead th {\n",
       "        text-align: right;\n",
       "    }\n",
       "</style>\n",
       "<table border=\"1\" class=\"dataframe\">\n",
       "  <thead>\n",
       "    <tr style=\"text-align: right;\">\n",
       "      <th></th>\n",
       "      <th>PARTY_ID</th>\n",
       "      <th>FISCAL_PERIOD</th>\n",
       "      <th>MERGED_FLAG</th>\n",
       "      <th>T_REVENUE</th>\n",
       "      <th>REVENUE</th>\n",
       "      <th>INT_INCOME</th>\n",
       "      <th>PREM_EARNED</th>\n",
       "      <th>COMMIS_INCOME</th>\n",
       "      <th>SPEC_TOR</th>\n",
       "      <th>ATOR</th>\n",
       "      <th>...</th>\n",
       "      <th>BASIC_EPS</th>\n",
       "      <th>DILUTED_EPS</th>\n",
       "      <th>OTH_COMPR_INCOME</th>\n",
       "      <th>OTH_EFFECT_CI</th>\n",
       "      <th>AE_EFFECT_CI</th>\n",
       "      <th>T_COMPR_INCOME</th>\n",
       "      <th>COMPR_INC_ATTR_P</th>\n",
       "      <th>COMPR_INC_ATTR_M_S</th>\n",
       "      <th>OTH_EFFECT_PCI</th>\n",
       "      <th>AE_EFFECT_PCI</th>\n",
       "    </tr>\n",
       "  </thead>\n",
       "  <tbody>\n",
       "    <tr>\n",
       "      <th>count</th>\n",
       "      <td>2.083060e+05</td>\n",
       "      <td>208306.000000</td>\n",
       "      <td>208306.0</td>\n",
       "      <td>2.082760e+05</td>\n",
       "      <td>2.082920e+05</td>\n",
       "      <td>3.920000e+03</td>\n",
       "      <td>3.067000e+03</td>\n",
       "      <td>2.592000e+03</td>\n",
       "      <td>2.900000e+02</td>\n",
       "      <td>3.940000e+02</td>\n",
       "      <td>...</td>\n",
       "      <td>205857.000000</td>\n",
       "      <td>199371.000000</td>\n",
       "      <td>8.366700e+04</td>\n",
       "      <td>2.180000e+02</td>\n",
       "      <td>9.290000e+02</td>\n",
       "      <td>1.960440e+05</td>\n",
       "      <td>1.958490e+05</td>\n",
       "      <td>1.494770e+05</td>\n",
       "      <td>2.440000e+02</td>\n",
       "      <td>7.340000e+02</td>\n",
       "    </tr>\n",
       "    <tr>\n",
       "      <th>mean</th>\n",
       "      <td>5.278100e+04</td>\n",
       "      <td>7.720680</td>\n",
       "      <td>1.0</td>\n",
       "      <td>4.711695e+09</td>\n",
       "      <td>4.703335e+09</td>\n",
       "      <td>1.965393e+08</td>\n",
       "      <td>8.859690e+07</td>\n",
       "      <td>2.216378e+08</td>\n",
       "      <td>1.271596e+08</td>\n",
       "      <td>9.033657e+06</td>\n",
       "      <td>...</td>\n",
       "      <td>0.238963</td>\n",
       "      <td>0.235819</td>\n",
       "      <td>-1.613467e+06</td>\n",
       "      <td>-1.168026e+06</td>\n",
       "      <td>-2.288952e+06</td>\n",
       "      <td>2.635528e+08</td>\n",
       "      <td>2.341820e+08</td>\n",
       "      <td>3.848871e+07</td>\n",
       "      <td>2.957094e+07</td>\n",
       "      <td>8.046370e+06</td>\n",
       "    </tr>\n",
       "    <tr>\n",
       "      <th>std</th>\n",
       "      <td>5.039279e+05</td>\n",
       "      <td>3.469145</td>\n",
       "      <td>0.0</td>\n",
       "      <td>4.238955e+10</td>\n",
       "      <td>4.237183e+10</td>\n",
       "      <td>1.126002e+09</td>\n",
       "      <td>1.187500e+09</td>\n",
       "      <td>7.298926e+08</td>\n",
       "      <td>5.458719e+08</td>\n",
       "      <td>8.339485e+07</td>\n",
       "      <td>...</td>\n",
       "      <td>0.434032</td>\n",
       "      <td>0.427521</td>\n",
       "      <td>2.995326e+08</td>\n",
       "      <td>1.768439e+07</td>\n",
       "      <td>4.488878e+07</td>\n",
       "      <td>2.098220e+09</td>\n",
       "      <td>1.863942e+09</td>\n",
       "      <td>3.840470e+08</td>\n",
       "      <td>9.872134e+07</td>\n",
       "      <td>9.813054e+07</td>\n",
       "    </tr>\n",
       "    <tr>\n",
       "      <th>min</th>\n",
       "      <td>3.000000e+00</td>\n",
       "      <td>3.000000</td>\n",
       "      <td>1.0</td>\n",
       "      <td>-4.451524e+07</td>\n",
       "      <td>-4.451524e+07</td>\n",
       "      <td>-3.695805e+06</td>\n",
       "      <td>-4.289316e+06</td>\n",
       "      <td>-1.426680e+06</td>\n",
       "      <td>-1.249959e+08</td>\n",
       "      <td>-3.058748e+08</td>\n",
       "      <td>...</td>\n",
       "      <td>-21.857000</td>\n",
       "      <td>-21.857000</td>\n",
       "      <td>-2.023900e+10</td>\n",
       "      <td>-2.610000e+08</td>\n",
       "      <td>-6.030421e+08</td>\n",
       "      <td>-1.830261e+10</td>\n",
       "      <td>-1.615278e+10</td>\n",
       "      <td>-4.342121e+09</td>\n",
       "      <td>-6.421470e+04</td>\n",
       "      <td>-3.717582e+08</td>\n",
       "    </tr>\n",
       "    <tr>\n",
       "      <th>25%</th>\n",
       "      <td>8.110000e+02</td>\n",
       "      <td>6.000000</td>\n",
       "      <td>1.0</td>\n",
       "      <td>2.659696e+08</td>\n",
       "      <td>2.648917e+08</td>\n",
       "      <td>3.460088e+06</td>\n",
       "      <td>0.000000e+00</td>\n",
       "      <td>1.209186e+05</td>\n",
       "      <td>0.000000e+00</td>\n",
       "      <td>0.000000e+00</td>\n",
       "      <td>...</td>\n",
       "      <td>0.034100</td>\n",
       "      <td>0.032600</td>\n",
       "      <td>-2.292214e+06</td>\n",
       "      <td>0.000000e+00</td>\n",
       "      <td>-1.000000e+02</td>\n",
       "      <td>1.260156e+07</td>\n",
       "      <td>1.207179e+07</td>\n",
       "      <td>-5.643000e+05</td>\n",
       "      <td>0.000000e+00</td>\n",
       "      <td>-1.000000e-02</td>\n",
       "    </tr>\n",
       "    <tr>\n",
       "      <th>50%</th>\n",
       "      <td>2.046000e+03</td>\n",
       "      <td>9.000000</td>\n",
       "      <td>1.0</td>\n",
       "      <td>7.115241e+08</td>\n",
       "      <td>7.088636e+08</td>\n",
       "      <td>1.843963e+07</td>\n",
       "      <td>0.000000e+00</td>\n",
       "      <td>2.365199e+06</td>\n",
       "      <td>0.000000e+00</td>\n",
       "      <td>0.000000e+00</td>\n",
       "      <td>...</td>\n",
       "      <td>0.140000</td>\n",
       "      <td>0.136800</td>\n",
       "      <td>-3.894880e+03</td>\n",
       "      <td>0.000000e+00</td>\n",
       "      <td>0.000000e+00</td>\n",
       "      <td>4.932245e+07</td>\n",
       "      <td>4.701986e+07</td>\n",
       "      <td>4.780997e+05</td>\n",
       "      <td>0.000000e+00</td>\n",
       "      <td>0.000000e+00</td>\n",
       "    </tr>\n",
       "    <tr>\n",
       "      <th>75%</th>\n",
       "      <td>3.823100e+04</td>\n",
       "      <td>12.000000</td>\n",
       "      <td>1.0</td>\n",
       "      <td>2.080031e+09</td>\n",
       "      <td>2.071813e+09</td>\n",
       "      <td>8.216946e+07</td>\n",
       "      <td>0.000000e+00</td>\n",
       "      <td>5.023606e+07</td>\n",
       "      <td>0.000000e+00</td>\n",
       "      <td>4.054323e+05</td>\n",
       "      <td>...</td>\n",
       "      <td>0.350000</td>\n",
       "      <td>0.344800</td>\n",
       "      <td>1.384593e+06</td>\n",
       "      <td>0.000000e+00</td>\n",
       "      <td>1.000000e+02</td>\n",
       "      <td>1.469795e+08</td>\n",
       "      <td>1.387557e+08</td>\n",
       "      <td>7.877914e+06</td>\n",
       "      <td>0.000000e+00</td>\n",
       "      <td>1.000000e+02</td>\n",
       "    </tr>\n",
       "    <tr>\n",
       "      <th>max</th>\n",
       "      <td>1.000700e+07</td>\n",
       "      <td>12.000000</td>\n",
       "      <td>1.0</td>\n",
       "      <td>2.880000e+12</td>\n",
       "      <td>2.880000e+12</td>\n",
       "      <td>2.669900e+10</td>\n",
       "      <td>3.425631e+10</td>\n",
       "      <td>1.053889e+10</td>\n",
       "      <td>3.679698e+09</td>\n",
       "      <td>1.479845e+09</td>\n",
       "      <td>...</td>\n",
       "      <td>21.560000</td>\n",
       "      <td>21.560000</td>\n",
       "      <td>1.388168e+10</td>\n",
       "      <td>6.365475e+06</td>\n",
       "      <td>4.079899e+08</td>\n",
       "      <td>1.530000e+11</td>\n",
       "      <td>1.430000e+11</td>\n",
       "      <td>2.314600e+10</td>\n",
       "      <td>5.013000e+08</td>\n",
       "      <td>1.628118e+09</td>\n",
       "    </tr>\n",
       "  </tbody>\n",
       "</table>\n",
       "<p>8 rows × 62 columns</p>\n",
       "</div>"
      ],
      "text/plain": [
       "           PARTY_ID  FISCAL_PERIOD  MERGED_FLAG     T_REVENUE       REVENUE  \\\n",
       "count  2.083060e+05  208306.000000     208306.0  2.082760e+05  2.082920e+05   \n",
       "mean   5.278100e+04       7.720680          1.0  4.711695e+09  4.703335e+09   \n",
       "std    5.039279e+05       3.469145          0.0  4.238955e+10  4.237183e+10   \n",
       "min    3.000000e+00       3.000000          1.0 -4.451524e+07 -4.451524e+07   \n",
       "25%    8.110000e+02       6.000000          1.0  2.659696e+08  2.648917e+08   \n",
       "50%    2.046000e+03       9.000000          1.0  7.115241e+08  7.088636e+08   \n",
       "75%    3.823100e+04      12.000000          1.0  2.080031e+09  2.071813e+09   \n",
       "max    1.000700e+07      12.000000          1.0  2.880000e+12  2.880000e+12   \n",
       "\n",
       "         INT_INCOME   PREM_EARNED  COMMIS_INCOME      SPEC_TOR          ATOR  \\\n",
       "count  3.920000e+03  3.067000e+03   2.592000e+03  2.900000e+02  3.940000e+02   \n",
       "mean   1.965393e+08  8.859690e+07   2.216378e+08  1.271596e+08  9.033657e+06   \n",
       "std    1.126002e+09  1.187500e+09   7.298926e+08  5.458719e+08  8.339485e+07   \n",
       "min   -3.695805e+06 -4.289316e+06  -1.426680e+06 -1.249959e+08 -3.058748e+08   \n",
       "25%    3.460088e+06  0.000000e+00   1.209186e+05  0.000000e+00  0.000000e+00   \n",
       "50%    1.843963e+07  0.000000e+00   2.365199e+06  0.000000e+00  0.000000e+00   \n",
       "75%    8.216946e+07  0.000000e+00   5.023606e+07  0.000000e+00  4.054323e+05   \n",
       "max    2.669900e+10  3.425631e+10   1.053889e+10  3.679698e+09  1.479845e+09   \n",
       "\n",
       "       ...      BASIC_EPS    DILUTED_EPS  OTH_COMPR_INCOME  OTH_EFFECT_CI  \\\n",
       "count  ...  205857.000000  199371.000000      8.366700e+04   2.180000e+02   \n",
       "mean   ...       0.238963       0.235819     -1.613467e+06  -1.168026e+06   \n",
       "std    ...       0.434032       0.427521      2.995326e+08   1.768439e+07   \n",
       "min    ...     -21.857000     -21.857000     -2.023900e+10  -2.610000e+08   \n",
       "25%    ...       0.034100       0.032600     -2.292214e+06   0.000000e+00   \n",
       "50%    ...       0.140000       0.136800     -3.894880e+03   0.000000e+00   \n",
       "75%    ...       0.350000       0.344800      1.384593e+06   0.000000e+00   \n",
       "max    ...      21.560000      21.560000      1.388168e+10   6.365475e+06   \n",
       "\n",
       "       AE_EFFECT_CI  T_COMPR_INCOME  COMPR_INC_ATTR_P  COMPR_INC_ATTR_M_S  \\\n",
       "count  9.290000e+02    1.960440e+05      1.958490e+05        1.494770e+05   \n",
       "mean  -2.288952e+06    2.635528e+08      2.341820e+08        3.848871e+07   \n",
       "std    4.488878e+07    2.098220e+09      1.863942e+09        3.840470e+08   \n",
       "min   -6.030421e+08   -1.830261e+10     -1.615278e+10       -4.342121e+09   \n",
       "25%   -1.000000e+02    1.260156e+07      1.207179e+07       -5.643000e+05   \n",
       "50%    0.000000e+00    4.932245e+07      4.701986e+07        4.780997e+05   \n",
       "75%    1.000000e+02    1.469795e+08      1.387557e+08        7.877914e+06   \n",
       "max    4.079899e+08    1.530000e+11      1.430000e+11        2.314600e+10   \n",
       "\n",
       "       OTH_EFFECT_PCI  AE_EFFECT_PCI  \n",
       "count    2.440000e+02   7.340000e+02  \n",
       "mean     2.957094e+07   8.046370e+06  \n",
       "std      9.872134e+07   9.813054e+07  \n",
       "min     -6.421470e+04  -3.717582e+08  \n",
       "25%      0.000000e+00  -1.000000e-02  \n",
       "50%      0.000000e+00   0.000000e+00  \n",
       "75%      0.000000e+00   1.000000e+02  \n",
       "max      5.013000e+08   1.628118e+09  \n",
       "\n",
       "[8 rows x 62 columns]"
      ]
     },
     "execution_count": 7,
     "metadata": {},
     "output_type": "execute_result"
    }
   ],
   "source": [
    "#读入并查看数据信息\n",
    "\n",
    "dtype={'TICKER_SYMBOL':str}  #按规定格式读取某列\n",
    "df = pd.read_csv(\"Data/GeneralBusinessIncome.csv\",dtype = dtype)\n",
    "\n",
    "#查看数据描述统计信息\n",
    "df.describe()"
   ]
  },
  {
   "cell_type": "markdown",
   "metadata": {
    "uuid": "4d0229bc-f1e9-4c49-9eda-5d1e569d2fe7"
   },
   "source": [
    "## 3.2 提取特征值和标签"
   ]
  },
  {
   "cell_type": "code",
   "execution_count": 8,
   "metadata": {
    "uuid": "efeab51f-5bf7-4418-906f-df3cbe7f079a"
   },
   "outputs": [
    {
     "data": {
      "text/html": [
       "<div>\n",
       "<style scoped>\n",
       "    .dataframe tbody tr th:only-of-type {\n",
       "        vertical-align: middle;\n",
       "    }\n",
       "\n",
       "    .dataframe tbody tr th {\n",
       "        vertical-align: top;\n",
       "    }\n",
       "\n",
       "    .dataframe thead th {\n",
       "        text-align: right;\n",
       "    }\n",
       "</style>\n",
       "<table border=\"1\" class=\"dataframe\">\n",
       "  <thead>\n",
       "    <tr style=\"text-align: right;\">\n",
       "      <th></th>\n",
       "      <th>COGS</th>\n",
       "      <th>REVENUE</th>\n",
       "    </tr>\n",
       "  </thead>\n",
       "  <tbody>\n",
       "    <tr>\n",
       "      <th>0</th>\n",
       "      <td>5.404079e+09</td>\n",
       "      <td>8.164319e+09</td>\n",
       "    </tr>\n",
       "    <tr>\n",
       "      <th>1</th>\n",
       "      <td>1.704442e+10</td>\n",
       "      <td>2.930837e+10</td>\n",
       "    </tr>\n",
       "    <tr>\n",
       "      <th>2</th>\n",
       "      <td>2.748888e+10</td>\n",
       "      <td>4.139035e+10</td>\n",
       "    </tr>\n",
       "    <tr>\n",
       "      <th>3</th>\n",
       "      <td>1.030000e+11</td>\n",
       "      <td>1.460000e+11</td>\n",
       "    </tr>\n",
       "    <tr>\n",
       "      <th>4</th>\n",
       "      <td>1.030000e+11</td>\n",
       "      <td>1.460000e+11</td>\n",
       "    </tr>\n",
       "    <tr>\n",
       "      <th>...</th>\n",
       "      <td>...</td>\n",
       "      <td>...</td>\n",
       "    </tr>\n",
       "    <tr>\n",
       "      <th>208301</th>\n",
       "      <td>1.300979e+08</td>\n",
       "      <td>5.291353e+08</td>\n",
       "    </tr>\n",
       "    <tr>\n",
       "      <th>208302</th>\n",
       "      <td>2.027395e+08</td>\n",
       "      <td>3.466358e+08</td>\n",
       "    </tr>\n",
       "    <tr>\n",
       "      <th>208303</th>\n",
       "      <td>1.812670e+08</td>\n",
       "      <td>3.279914e+08</td>\n",
       "    </tr>\n",
       "    <tr>\n",
       "      <th>208304</th>\n",
       "      <td>9.762662e+07</td>\n",
       "      <td>1.872872e+08</td>\n",
       "    </tr>\n",
       "    <tr>\n",
       "      <th>208305</th>\n",
       "      <td>1.939270e+08</td>\n",
       "      <td>3.894340e+08</td>\n",
       "    </tr>\n",
       "  </tbody>\n",
       "</table>\n",
       "<p>207985 rows × 2 columns</p>\n",
       "</div>"
      ],
      "text/plain": [
       "                COGS       REVENUE\n",
       "0       5.404079e+09  8.164319e+09\n",
       "1       1.704442e+10  2.930837e+10\n",
       "2       2.748888e+10  4.139035e+10\n",
       "3       1.030000e+11  1.460000e+11\n",
       "4       1.030000e+11  1.460000e+11\n",
       "...              ...           ...\n",
       "208301  1.300979e+08  5.291353e+08\n",
       "208302  2.027395e+08  3.466358e+08\n",
       "208303  1.812670e+08  3.279914e+08\n",
       "208304  9.762662e+07  1.872872e+08\n",
       "208305  1.939270e+08  3.894340e+08\n",
       "\n",
       "[207985 rows x 2 columns]"
      ]
     },
     "execution_count": 8,
     "metadata": {},
     "output_type": "execute_result"
    }
   ],
   "source": [
    "#特征值：解释变量（自变量）\n",
    "#标签：因变量\n",
    "\n",
    "#提取数据并删除缺失值\n",
    "ConData0 = df[['COGS','REVENUE']]\n",
    "ConData1 = ConData0.drop(labels = \\\n",
    "                         ConData0.index[ConData0['COGS'].isnull()],axis=0)\n",
    "ConData = ConData1.drop(labels = \\\n",
    "                        ConData1.index[ConData1['REVENUE'].isnull()],axis=0)\n",
    "\n",
    "#提取特征值和标签\n",
    "COGS_X = ConData['COGS']\n",
    "REVENUE_Y = ConData['REVENUE']\n",
    "\n",
    "#查看数据集\n",
    "ConData"
   ]
  },
  {
   "cell_type": "markdown",
   "metadata": {
    "uuid": "81b45034-df02-4f5f-a145-c1363118d672"
   },
   "source": [
    "## 3.3 可视化营业成本和营业收入之间的关系"
   ]
  },
  {
   "cell_type": "code",
   "execution_count": 12,
   "metadata": {
    "uuid": "eb69d16e-a5eb-4b84-9e62-7b3c8525cbc5"
   },
   "outputs": [
    {
     "name": "stdout",
     "output_type": "stream",
     "text": [
      "['/data/nas/workspace/jupyter/aliyun/aliyun1/myfonts/simkai.ttf', '/data/nas/workspace/jupyter/aliyun/aliyun1/myfonts/simsun.ttc', '/data/nas/workspace/jupyter/aliyun/aliyun1/myfonts/5c92ee63e88781553133155.ttf', '/data/nas/workspace/jupyter/aliyun/aliyun1/myfonts/5c92e9d0bc1941553131984.ttf', '/data/nas/workspace/jupyter/aliyun/aliyun1/myfonts/SIMLI.TTF', '/data/nas/workspace/jupyter/aliyun/aliyun1/myfonts/5c8a0711e99921552549649.ttf', '/data/nas/workspace/jupyter/aliyun/aliyun1/myfonts/85965d882f93b69551569206163.ttf', '/data/nas/workspace/jupyter/aliyun/aliyun1/myfonts/SIMYOU.TTF']\n",
      "[<Font 'KaiTi' (simkai.ttf) normal normal 400 normal>, <Font 'SimSun' (simsun.ttc) normal normal 400 normal>, <Font 'HYChengXingJ' (5c92ee63e88781553133155.ttf) normal normal regular normal>, <Font 'HYBeiWeiXieJing' (5c92e9d0bc1941553131984.ttf) normal normal 400 normal>, <Font 'LiSu' (SIMLI.TTF) normal normal 400 normal>, <Font 'YRDZST' (5c8a0711e99921552549649.ttf) normal normal semibold normal>, <Font 'SJzhuokai' (85965d882f93b69551569206163.ttf) normal normal regular normal>, <Font 'YouYuan' (SIMYOU.TTF) normal normal 400 normal>]\n"
     ]
    },
    {
     "data": {
      "text/plain": [
       "51"
      ]
     },
     "execution_count": 12,
     "metadata": {},
     "output_type": "execute_result"
    }
   ],
   "source": [
    "import matplotlib.font_manager as font_manager\n",
    "font_dirs = ['myfonts',]\n",
    "font_files = font_manager.findSystemFonts(fontpaths=font_dirs)\n",
    "print(font_files)\n",
    "\n",
    "font_list = font_manager.createFontList(font_files)\n",
    "print(font_list)\n",
    "\n",
    "font_manager.fontManager.ttflist.extend(font_list)\n",
    "len(font_manager.fontManager.ttflist)"
   ]
  },
  {
   "cell_type": "code",
   "execution_count": 15,
   "metadata": {
    "uuid": "b3eff272-aef6-4b6b-a6be-fea62b89752f"
   },
   "outputs": [
    {
     "data": {
      "image/png": "[encoded data removed]",
      "text/plain": [
       "<Figure size 432x288 with 1 Axes>"
      ]
     },
     "metadata": {
      "needs_background": "light"
     },
     "output_type": "display_data"
    }
   ],
   "source": [
    "#设置全局字体\n",
    "plt.rcParams[\"font.family\"] ='HYBeiWeiXieJing'\n",
    "plt.rcParams['axes.unicode_minus'] = False\n",
    "\n",
    "#散点图\n",
    "plt.scatter(COGS_X,REVENUE_Y,color='b',label='营业数据')\n",
    "\n",
    "#横纵轴标签\n",
    "plt.legend(loc=2)\n",
    "plt.xlabel('营业成本')\n",
    "plt.ylabel('营业收入')\n",
    "plt.show()"
   ]
  },
  {
   "cell_type": "markdown",
   "metadata": {
    "uuid": "fa6d84c0-12f5-40e3-be62-5900b9ea3b5c"
   },
   "source": [
    "## 3.4 求出变量间相关系数"
   ]
  },
  {
   "cell_type": "code",
   "execution_count": 17,
   "metadata": {
    "uuid": "9cf6183e-a65a-4b8a-89ea-e57ab90ec2cc"
   },
   "outputs": [
    {
     "name": "stdout",
     "output_type": "stream",
     "text": [
      "             COGS   REVENUE\n",
      "COGS     1.000000  0.996315\n",
      "REVENUE  0.996315  1.000000\n"
     ]
    }
   ],
   "source": [
    "#变量间的相关系数\n",
    "rDf=ConData.corr()\n",
    "print(rDf)"
   ]
  },
  {
   "cell_type": "markdown",
   "metadata": {
    "uuid": "949d03df-bd5e-4a23-8487-601e3330ae38"
   },
   "source": [
    "## 3.5 训练集和测试集的划分"
   ]
  },
  {
   "cell_type": "code",
   "execution_count": 19,
   "metadata": {
    "uuid": "b1ea2391-c93d-402b-b1b5-35edfefd135c"
   },
   "outputs": [
    {
     "name": "stdout",
     "output_type": "stream",
     "text": [
      "训练集大小 (166388,) (166388,)\n",
      "测试集大小 (41597,) (41597,)\n"
     ]
    }
   ],
   "source": [
    "# 数据集中分离出训练数据train和测试数据test\n",
    "\n",
    "from sklearn.model_selection import train_test_split\n",
    "\n",
    "#建立训练集和测试集数据\n",
    "train_x,test_x,train_y,test_y = \\\n",
    "train_test_split(COGS_X, REVENUE_Y, train_size=0.8)\n",
    "#输出训练集和测试集数据大小\n",
    "print('训练集大小',train_x.shape,train_y.shape)\n",
    "print('测试集大小',test_x.shape,test_y.shape)"
   ]
  },
  {
   "cell_type": "markdown",
   "metadata": {
    "uuid": "b8af8dc9-574c-4de6-9254-ce8c665aec18"
   },
   "source": [
    "## 3.6 可视化训练集和测试集的分布"
   ]
  },
  {
   "cell_type": "code",
   "execution_count": 21,
   "metadata": {
    "uuid": "8caec3e1-0771-40dc-aba3-f15a28e1d7b4"
   },
   "outputs": [
    {
     "data": {
      "image/png": "[encoded data removed]",
      "text/plain": [
       "<Figure size 432x288 with 1 Axes>"
      ]
     },
     "metadata": {
      "needs_background": "light"
     },
     "output_type": "display_data"
    }
   ],
   "source": [
    "# 绘制散点图，查看训练集和测试集数据的分布情况\n",
    "\n",
    "#散点图\n",
    "plt.scatter(train_x,train_y,color='b',label='训练集')\n",
    "plt.scatter(test_x,test_y,color='r',label='测试集')\n",
    "\n",
    "#横纵轴标签\n",
    "plt.legend(loc=2)\n",
    "plt.xlabel('营业成本')\n",
    "plt.ylabel('营业收入')\n",
    "plt.show()"
   ]
  },
  {
   "cell_type": "markdown",
   "metadata": {
    "uuid": "4995a901-3556-4eaf-b573-5469a138f266"
   },
   "source": [
    "## 3.7 创建线性回归模型"
   ]
  },
  {
   "cell_type": "code",
   "execution_count": 29,
   "metadata": {
    "uuid": "75a74328-ece4-4054-9685-8c0bc6bf9b36"
   },
   "outputs": [],
   "source": [
    "#导入线性回归模型\n",
    "from sklearn.linear_model import LinearRegression\n",
    "\n",
    "#创建模型\n",
    "model=LinearRegression()"
   ]
  },
  {
   "cell_type": "markdown",
   "metadata": {
    "uuid": "8000a602-4ca3-43cd-a47d-2f9af53500de"
   },
   "source": [
    "## 3.8 训练线性回归模型"
   ]
  },
  {
   "cell_type": "code",
   "execution_count": 30,
   "metadata": {
    "uuid": "1d507a08-634f-4309-995a-fb89b38e1b54"
   },
   "outputs": [
    {
     "name": "stdout",
     "output_type": "stream",
     "text": [
      "训练集大小: (166388, 1) (166388, 1)\n",
      "测试集大小: (41597, 1) (41597, 1)\n"
     ]
    },
    {
     "data": {
      "text/plain": [
       "LinearRegression()"
      ]
     },
     "execution_count": 30,
     "metadata": {},
     "output_type": "execute_result"
    }
   ],
   "source": [
    "#导入模型的数据应为一列数据\n",
    "train_x=train_x.values.reshape(-1,1)\n",
    "train_y=train_y.values.reshape(-1,1)\n",
    "test_x=test_x.values.reshape(-1,1)\n",
    "test_y=test_y.values.reshape(-1,1)\n",
    "print('训练集大小:',train_x.shape,train_y.shape)\n",
    "print('测试集大小:',test_x.shape,test_y.shape)\n",
    "model.fit(train_x,train_y)"
   ]
  },
  {
   "cell_type": "markdown",
   "metadata": {
    "uuid": "409fca6c-6c58-4c37-a75c-9c62094b3fb9"
   },
   "source": [
    "## 3.9 显示模型优度"
   ]
  },
  {
   "cell_type": "code",
   "execution_count": 31,
   "metadata": {
    "uuid": "a3c76c8f-7e52-40d9-b046-7fce30369452"
   },
   "outputs": [
    {
     "name": "stdout",
     "output_type": "stream",
     "text": [
      "模型得分为 0.9931\n"
     ]
    }
   ],
   "source": [
    "#查看模型得分\n",
    "print('模型得分为',round(model.score(test_x,test_y),4))"
   ]
  },
  {
   "cell_type": "markdown",
   "metadata": {
    "uuid": "0b5b419e-3200-42f4-ace0-d8b59c5ef709"
   },
   "source": [
    "## 3.10 求出模型的回归方程"
   ]
  },
  {
   "cell_type": "code",
   "execution_count": 32,
   "metadata": {
    "uuid": "1bcbd647-879a-47fb-a050-f6d03d95c96b"
   },
   "outputs": [
    {
     "name": "stdout",
     "output_type": "stream",
     "text": [
      "模型的回归方程是:y=13902937.700657+1.230676 x\n"
     ]
    }
   ],
   "source": [
    "#模型拟合线（模型的回归方程）y=a+bx\n",
    "a=model.intercept_\n",
    "b=model.coef_\n",
    "print('模型的回归方程是:y=%f+%f x'%(a,b))"
   ]
  },
  {
   "cell_type": "markdown",
   "metadata": {
    "uuid": "2dc29e8a-64ac-47d4-b149-397e2070dbb2"
   },
   "source": [
    "## 3.11 绘制模型拟合线"
   ]
  },
  {
   "cell_type": "code",
   "execution_count": 33,
   "metadata": {
    "uuid": "42a30414-ffc2-417e-8b08-b89bf64cfb17"
   },
   "outputs": [
    {
     "data": {
      "image/png": "[encoded data removed]",
      "text/plain": [
       "<Figure size 432x288 with 1 Axes>"
      ]
     },
     "metadata": {
      "needs_background": "light"
     },
     "output_type": "display_data"
    }
   ],
   "source": [
    "#绘制拟合曲线\n",
    "plt.scatter(train_x,train_y,color='b',label='train data')\n",
    "test_y_pred=model.predict(test_x)\n",
    "plt.plot(test_x,test_y_pred,color='black',label='best line')\n",
    "\n",
    "#测试集数据的散点图\n",
    "plt.scatter(test_x,test_y,color='r',label='test data')\n",
    "\n",
    "#坐标轴\n",
    "plt.xlabel('营业成本')\n",
    "plt.ylabel('营业收入')\n",
    "plt.legend(loc=2)\n",
    "plt.show()"
   ]
  },
  {
   "cell_type": "markdown",
   "metadata": {
    "uuid": "02ce58ca-41bc-4ce1-9f8d-7e5a7ca94d0d"
   },
   "source": [
    "## 3.12 模型预测"
   ]
  },
  {
   "cell_type": "code",
   "execution_count": 13,
   "metadata": {
    "uuid": "04cfbfdd-9ea8-4c33-b83d-c96d75eedb2a"
   },
   "outputs": [
    {
     "data": {
      "text/html": [
       "<div>\n",
       "<style scoped>\n",
       "    .dataframe tbody tr th:only-of-type {\n",
       "        vertical-align: middle;\n",
       "    }\n",
       "\n",
       "    .dataframe tbody tr th {\n",
       "        vertical-align: top;\n",
       "    }\n",
       "\n",
       "    .dataframe thead th {\n",
       "        text-align: right;\n",
       "    }\n",
       "</style>\n",
       "<table border=\"1\" class=\"dataframe\">\n",
       "  <thead>\n",
       "    <tr style=\"text-align: right;\">\n",
       "      <th></th>\n",
       "      <th>COGS</th>\n",
       "      <th>REVENUE</th>\n",
       "      <th>Pre_REVENUE</th>\n",
       "    </tr>\n",
       "  </thead>\n",
       "  <tbody>\n",
       "    <tr>\n",
       "      <th>0</th>\n",
       "      <td>5.404079e+09</td>\n",
       "      <td>8.164319e+09</td>\n",
       "      <td>6.653084e+09</td>\n",
       "    </tr>\n",
       "    <tr>\n",
       "      <th>1</th>\n",
       "      <td>1.704442e+10</td>\n",
       "      <td>2.930837e+10</td>\n",
       "      <td>2.093469e+10</td>\n",
       "    </tr>\n",
       "    <tr>\n",
       "      <th>2</th>\n",
       "      <td>2.748888e+10</td>\n",
       "      <td>4.139035e+10</td>\n",
       "      <td>3.374907e+10</td>\n",
       "    </tr>\n",
       "    <tr>\n",
       "      <th>3</th>\n",
       "      <td>1.030000e+11</td>\n",
       "      <td>1.460000e+11</td>\n",
       "      <td>1.263942e+11</td>\n",
       "    </tr>\n",
       "    <tr>\n",
       "      <th>4</th>\n",
       "      <td>1.030000e+11</td>\n",
       "      <td>1.460000e+11</td>\n",
       "      <td>1.263942e+11</td>\n",
       "    </tr>\n",
       "    <tr>\n",
       "      <th>5</th>\n",
       "      <td>5.870110e+09</td>\n",
       "      <td>8.894338e+09</td>\n",
       "      <td>7.224861e+09</td>\n",
       "    </tr>\n",
       "    <tr>\n",
       "      <th>6</th>\n",
       "      <td>8.600359e+10</td>\n",
       "      <td>1.170000e+11</td>\n",
       "      <td>1.055411e+11</td>\n",
       "    </tr>\n",
       "    <tr>\n",
       "      <th>7</th>\n",
       "      <td>2.307595e+07</td>\n",
       "      <td>4.331482e+07</td>\n",
       "      <td>5.109646e+07</td>\n",
       "    </tr>\n",
       "    <tr>\n",
       "      <th>8</th>\n",
       "      <td>2.307595e+07</td>\n",
       "      <td>4.331482e+07</td>\n",
       "      <td>5.109646e+07</td>\n",
       "    </tr>\n",
       "    <tr>\n",
       "      <th>9</th>\n",
       "      <td>1.474410e+07</td>\n",
       "      <td>2.817939e+07</td>\n",
       "      <td>4.087406e+07</td>\n",
       "    </tr>\n",
       "    <tr>\n",
       "      <th>10</th>\n",
       "      <td>2.991424e+07</td>\n",
       "      <td>6.008060e+07</td>\n",
       "      <td>5.948641e+07</td>\n",
       "    </tr>\n",
       "    <tr>\n",
       "      <th>11</th>\n",
       "      <td>1.341616e+10</td>\n",
       "      <td>2.254191e+10</td>\n",
       "      <td>1.648316e+10</td>\n",
       "    </tr>\n",
       "    <tr>\n",
       "      <th>12</th>\n",
       "      <td>2.500527e+10</td>\n",
       "      <td>4.099178e+10</td>\n",
       "      <td>3.070192e+10</td>\n",
       "    </tr>\n",
       "    <tr>\n",
       "      <th>13</th>\n",
       "      <td>3.451472e+10</td>\n",
       "      <td>4.888101e+10</td>\n",
       "      <td>4.236912e+10</td>\n",
       "    </tr>\n",
       "    <tr>\n",
       "      <th>14</th>\n",
       "      <td>4.749115e+09</td>\n",
       "      <td>7.504970e+09</td>\n",
       "      <td>5.849505e+09</td>\n",
       "    </tr>\n",
       "  </tbody>\n",
       "</table>\n",
       "</div>"
      ],
      "text/plain": [
       "            COGS       REVENUE   Pre_REVENUE\n",
       "0   5.404079e+09  8.164319e+09  6.653084e+09\n",
       "1   1.704442e+10  2.930837e+10  2.093469e+10\n",
       "2   2.748888e+10  4.139035e+10  3.374907e+10\n",
       "3   1.030000e+11  1.460000e+11  1.263942e+11\n",
       "4   1.030000e+11  1.460000e+11  1.263942e+11\n",
       "5   5.870110e+09  8.894338e+09  7.224861e+09\n",
       "6   8.600359e+10  1.170000e+11  1.055411e+11\n",
       "7   2.307595e+07  4.331482e+07  5.109646e+07\n",
       "8   2.307595e+07  4.331482e+07  5.109646e+07\n",
       "9   1.474410e+07  2.817939e+07  4.087406e+07\n",
       "10  2.991424e+07  6.008060e+07  5.948641e+07\n",
       "11  1.341616e+10  2.254191e+10  1.648316e+10\n",
       "12  2.500527e+10  4.099178e+10  3.070192e+10\n",
       "13  3.451472e+10  4.888101e+10  4.236912e+10\n",
       "14  4.749115e+09  7.504970e+09  5.849505e+09"
      ]
     },
     "execution_count": 13,
     "metadata": {},
     "output_type": "execute_result"
    }
   ],
   "source": [
    "#导入模型的数据应为一列数据\n",
    "COGS_X = COGS_X.values.reshape(-1,1)\n",
    "Pre_REVENUE = model.predict(COGS_X)\n",
    "\n",
    "#将预测数据加入原始数据集对比\n",
    "ConData['Pre_REVENUE'] = Pre_REVENUE\n",
    "ConData.head(15)"
   ]
  }
 ],
 "metadata": {
  "kernelspec": {
   "display_name": "Python 3",
   "language": "python",
   "name": "python3"
  },
  "language_info": {
   "codemirror_mode": {
    "name": "ipython",
    "version": 3
   },
   "file_extension": ".py",
   "mimetype": "text/x-python",
   "name": "python",
   "nbconvert_exporter": "python",
   "pygments_lexer": "ipython3",
   "version": "3.7.4"
  },
  "toc": {
   "base_numbering": 1,
   "nav_menu": {},
   "number_sections": true,
   "sideBar": true,
   "skip_h1_title": false,
   "title_cell": "Table of Contents",
   "title_sidebar": "Contents",
   "toc_cell": false,
   "toc_position": {},
   "toc_section_display": true,
   "toc_window_display": true
  }
 },
 "nbformat": 4,
 "nbformat_minor": 4
}
