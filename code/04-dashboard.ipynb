{
 "cells": [
  {
   "cell_type": "markdown",
   "id": "2a406e47-a8dc-40ab-b854-5466128c3f47",
   "metadata": {},
   "source": [
    "# User Dashboard"
   ]
  },
  {
   "cell_type": "markdown",
   "id": "ab2bd259-20a9-4eec-8091-61e0186b4d2e",
   "metadata": {},
   "source": [
    "  "
   ]
  },
  {
   "cell_type": "code",
   "execution_count": 1,
   "id": "3b4a7ac7-d0cc-4d76-a23e-c3dcf522b031",
   "metadata": {
    "tags": []
   },
   "outputs": [],
   "source": [
    "# Import the liraries\n",
    "import numpy as np\n",
    "import pandas as pd\n",
    "import matplotlib.pyplot as plt\n",
    "import seaborn as sns\n",
    "import plotly.express as px"
   ]
  },
  {
   "cell_type": "markdown",
   "id": "20384279-5329-4167-815d-e04a425df0f3",
   "metadata": {},
   "source": [
    "  "
   ]
  },
  {
   "cell_type": "code",
   "execution_count": null,
   "id": "75980193-cee3-4edd-8d43-24c2b035cfcb",
   "metadata": {},
   "outputs": [],
   "source": []
  }
 ],
 "metadata": {
  "kernelspec": {
   "display_name": "Python 3 (ipykernel)",
   "language": "python",
   "name": "python3"
  },
  "language_info": {
   "codemirror_mode": {
    "name": "ipython",
    "version": 3
   },
   "file_extension": ".py",
   "mimetype": "text/x-python",
   "name": "python",
   "nbconvert_exporter": "python",
   "pygments_lexer": "ipython3",
   "version": "3.10.13"
  }
 },
 "nbformat": 4,
 "nbformat_minor": 5
}
